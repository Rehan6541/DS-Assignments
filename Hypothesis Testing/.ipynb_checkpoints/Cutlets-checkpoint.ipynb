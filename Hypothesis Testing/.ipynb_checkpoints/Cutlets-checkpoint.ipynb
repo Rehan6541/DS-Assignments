{
 "cells": [
  {
   "cell_type": "markdown",
   "id": "e6b417fd-87ee-49b4-9d3a-fb7134b19d12",
   "metadata": {},
   "source": [
    "1).A F&B manager wants to determine whether there is any significant difference in the diameter of the cutlet between two units. A randomly selected sample of cutlets was collected from both units and measured? Analyze the data and draw inferences at 5% significance level. Please state the assumptions and tests that you carried out to check validity of the assumptions"
   ]
  },
  {
   "cell_type": "markdown",
   "id": "0998e25b-193d-4e03-b1d3-6057218f7501",
   "metadata": {},
   "source": [
    "# 1.Business Problem"
   ]
  },
  {
   "cell_type": "markdown",
   "id": "d6c74b37-93ff-46c0-9c52-8591e4f59492",
   "metadata": {},
   "source": [
    "The Food & Beverage (F&B) manager wants to analyze whether there is a significant difference in the diameter of cutlets produced by two different units (Unit A and Unit B). Maintaining a consistent size for cutlets is crucial for quality control and customer satisfaction.\n",
    "\n",
    "To ensure uniformity, a statistical hypothesis test will be conducted to determine whether the mean diameter of cutlets differs significantly between the two units."
   ]
  },
  {
   "cell_type": "markdown",
   "id": "ce7e94bc-ce36-4c84-9d71-f17c7956d0c2",
   "metadata": {},
   "source": [
    "### 1.1.Objective"
   ]
  },
  {
   "cell_type": "markdown",
   "id": "cd1248af-8326-48d0-8e12-762ee0776b9e",
   "metadata": {},
   "source": [
    "The primary objectives of this analysis are:\n",
    "\n",
    "To determine whether there is a significant difference in the average diameter of cutlets produced by Unit A and Unit B.\n",
    "\n",
    "To use hypothesis testing to validate whether the observed differences (if any) are statistically significant.\n",
    "\n",
    "To provide data-driven insights that will help the management maintain quality control and standardization across production units."
   ]
  },
  {
   "cell_type": "markdown",
   "id": "dcd0cdff-a0dd-4996-be73-63c4c3378000",
   "metadata": {},
   "source": [
    "### 1.2.Constraints\n",
    "Sample Size Limitation: Only 35 samples per unit (after cleaning missing values).\n",
    "\n",
    "Independence Assumption: Measurements from each unit must be independent.\n",
    "\n",
    "Normality Assumption: Both groups should follow a normal distribution (checked using Shapiro-Wilk test).\n",
    "\n",
    "Equal Variance Assumption: Variances across units should be approximately equal (checked using Levene's test).\n",
    "\n",
    "Significance Level: α = 0.05 (5%) – If p-value < 0.05, the difference is statistically significant."
   ]
  },
  {
   "cell_type": "markdown",
   "id": "3c77eb0e-c16d-43b6-bfec-2c720592693c",
   "metadata": {},
   "source": [
    "# 2.Data Pre-processing"
   ]
  },
  {
   "cell_type": "code",
   "execution_count": 57,
   "id": "41ab5bff-3acb-4594-bc36-35db4e41ac59",
   "metadata": {},
   "outputs": [],
   "source": [
    "#Import necessory Libraries\n",
    "import pandas as pd\n",
    "import numpy as np\n",
    "import matplotlib.pyplot as plt\n",
    "import seaborn as sns\n",
    "import scipy\n",
    "import scipy.stats as stats\n",
    "from flask import Flask, jsonify"
   ]
  },
  {
   "cell_type": "code",
   "execution_count": 7,
   "id": "7be7c235-fc25-4ca2-9c34-f8f6062d9626",
   "metadata": {},
   "outputs": [
    {
     "data": {
      "text/html": [
       "<div>\n",
       "<style scoped>\n",
       "    .dataframe tbody tr th:only-of-type {\n",
       "        vertical-align: middle;\n",
       "    }\n",
       "\n",
       "    .dataframe tbody tr th {\n",
       "        vertical-align: top;\n",
       "    }\n",
       "\n",
       "    .dataframe thead th {\n",
       "        text-align: right;\n",
       "    }\n",
       "</style>\n",
       "<table border=\"1\" class=\"dataframe\">\n",
       "  <thead>\n",
       "    <tr style=\"text-align: right;\">\n",
       "      <th></th>\n",
       "      <th>Unit A</th>\n",
       "      <th>Unit B</th>\n",
       "    </tr>\n",
       "  </thead>\n",
       "  <tbody>\n",
       "    <tr>\n",
       "      <th>0</th>\n",
       "      <td>6.8090</td>\n",
       "      <td>6.7703</td>\n",
       "    </tr>\n",
       "    <tr>\n",
       "      <th>1</th>\n",
       "      <td>6.4376</td>\n",
       "      <td>7.5093</td>\n",
       "    </tr>\n",
       "    <tr>\n",
       "      <th>2</th>\n",
       "      <td>6.9157</td>\n",
       "      <td>6.7300</td>\n",
       "    </tr>\n",
       "    <tr>\n",
       "      <th>3</th>\n",
       "      <td>7.3012</td>\n",
       "      <td>6.7878</td>\n",
       "    </tr>\n",
       "    <tr>\n",
       "      <th>4</th>\n",
       "      <td>7.4488</td>\n",
       "      <td>7.1522</td>\n",
       "    </tr>\n",
       "    <tr>\n",
       "      <th>5</th>\n",
       "      <td>7.3871</td>\n",
       "      <td>6.8110</td>\n",
       "    </tr>\n",
       "    <tr>\n",
       "      <th>6</th>\n",
       "      <td>6.8755</td>\n",
       "      <td>7.2212</td>\n",
       "    </tr>\n",
       "    <tr>\n",
       "      <th>7</th>\n",
       "      <td>7.0621</td>\n",
       "      <td>6.6606</td>\n",
       "    </tr>\n",
       "    <tr>\n",
       "      <th>8</th>\n",
       "      <td>6.6840</td>\n",
       "      <td>7.2402</td>\n",
       "    </tr>\n",
       "    <tr>\n",
       "      <th>9</th>\n",
       "      <td>6.8236</td>\n",
       "      <td>7.0503</td>\n",
       "    </tr>\n",
       "    <tr>\n",
       "      <th>10</th>\n",
       "      <td>7.3930</td>\n",
       "      <td>6.8810</td>\n",
       "    </tr>\n",
       "    <tr>\n",
       "      <th>11</th>\n",
       "      <td>7.5169</td>\n",
       "      <td>7.4059</td>\n",
       "    </tr>\n",
       "    <tr>\n",
       "      <th>12</th>\n",
       "      <td>6.9246</td>\n",
       "      <td>6.7652</td>\n",
       "    </tr>\n",
       "    <tr>\n",
       "      <th>13</th>\n",
       "      <td>6.9256</td>\n",
       "      <td>6.0380</td>\n",
       "    </tr>\n",
       "    <tr>\n",
       "      <th>14</th>\n",
       "      <td>6.5797</td>\n",
       "      <td>7.1581</td>\n",
       "    </tr>\n",
       "    <tr>\n",
       "      <th>15</th>\n",
       "      <td>6.8394</td>\n",
       "      <td>7.0240</td>\n",
       "    </tr>\n",
       "    <tr>\n",
       "      <th>16</th>\n",
       "      <td>6.5970</td>\n",
       "      <td>6.6672</td>\n",
       "    </tr>\n",
       "    <tr>\n",
       "      <th>17</th>\n",
       "      <td>7.2705</td>\n",
       "      <td>7.4314</td>\n",
       "    </tr>\n",
       "    <tr>\n",
       "      <th>18</th>\n",
       "      <td>7.2828</td>\n",
       "      <td>7.3070</td>\n",
       "    </tr>\n",
       "    <tr>\n",
       "      <th>19</th>\n",
       "      <td>7.3495</td>\n",
       "      <td>6.7478</td>\n",
       "    </tr>\n",
       "    <tr>\n",
       "      <th>20</th>\n",
       "      <td>6.9438</td>\n",
       "      <td>6.8889</td>\n",
       "    </tr>\n",
       "    <tr>\n",
       "      <th>21</th>\n",
       "      <td>7.1560</td>\n",
       "      <td>7.4220</td>\n",
       "    </tr>\n",
       "    <tr>\n",
       "      <th>22</th>\n",
       "      <td>6.5341</td>\n",
       "      <td>6.5217</td>\n",
       "    </tr>\n",
       "    <tr>\n",
       "      <th>23</th>\n",
       "      <td>7.2854</td>\n",
       "      <td>7.1688</td>\n",
       "    </tr>\n",
       "    <tr>\n",
       "      <th>24</th>\n",
       "      <td>6.9952</td>\n",
       "      <td>6.7594</td>\n",
       "    </tr>\n",
       "    <tr>\n",
       "      <th>25</th>\n",
       "      <td>6.8568</td>\n",
       "      <td>6.9399</td>\n",
       "    </tr>\n",
       "    <tr>\n",
       "      <th>26</th>\n",
       "      <td>7.2163</td>\n",
       "      <td>7.0133</td>\n",
       "    </tr>\n",
       "    <tr>\n",
       "      <th>27</th>\n",
       "      <td>6.6801</td>\n",
       "      <td>6.9182</td>\n",
       "    </tr>\n",
       "    <tr>\n",
       "      <th>28</th>\n",
       "      <td>6.9431</td>\n",
       "      <td>6.3346</td>\n",
       "    </tr>\n",
       "    <tr>\n",
       "      <th>29</th>\n",
       "      <td>7.0852</td>\n",
       "      <td>7.5459</td>\n",
       "    </tr>\n",
       "    <tr>\n",
       "      <th>30</th>\n",
       "      <td>6.7794</td>\n",
       "      <td>7.0992</td>\n",
       "    </tr>\n",
       "    <tr>\n",
       "      <th>31</th>\n",
       "      <td>7.2783</td>\n",
       "      <td>7.1180</td>\n",
       "    </tr>\n",
       "    <tr>\n",
       "      <th>32</th>\n",
       "      <td>7.1561</td>\n",
       "      <td>6.6965</td>\n",
       "    </tr>\n",
       "    <tr>\n",
       "      <th>33</th>\n",
       "      <td>7.3943</td>\n",
       "      <td>6.5780</td>\n",
       "    </tr>\n",
       "    <tr>\n",
       "      <th>34</th>\n",
       "      <td>6.9405</td>\n",
       "      <td>7.3875</td>\n",
       "    </tr>\n",
       "    <tr>\n",
       "      <th>35</th>\n",
       "      <td>NaN</td>\n",
       "      <td>NaN</td>\n",
       "    </tr>\n",
       "    <tr>\n",
       "      <th>36</th>\n",
       "      <td>NaN</td>\n",
       "      <td>NaN</td>\n",
       "    </tr>\n",
       "    <tr>\n",
       "      <th>37</th>\n",
       "      <td>NaN</td>\n",
       "      <td>NaN</td>\n",
       "    </tr>\n",
       "    <tr>\n",
       "      <th>38</th>\n",
       "      <td>NaN</td>\n",
       "      <td>NaN</td>\n",
       "    </tr>\n",
       "    <tr>\n",
       "      <th>39</th>\n",
       "      <td>NaN</td>\n",
       "      <td>NaN</td>\n",
       "    </tr>\n",
       "    <tr>\n",
       "      <th>40</th>\n",
       "      <td>NaN</td>\n",
       "      <td>NaN</td>\n",
       "    </tr>\n",
       "    <tr>\n",
       "      <th>41</th>\n",
       "      <td>NaN</td>\n",
       "      <td>NaN</td>\n",
       "    </tr>\n",
       "    <tr>\n",
       "      <th>42</th>\n",
       "      <td>NaN</td>\n",
       "      <td>NaN</td>\n",
       "    </tr>\n",
       "    <tr>\n",
       "      <th>43</th>\n",
       "      <td>NaN</td>\n",
       "      <td>NaN</td>\n",
       "    </tr>\n",
       "    <tr>\n",
       "      <th>44</th>\n",
       "      <td>NaN</td>\n",
       "      <td>NaN</td>\n",
       "    </tr>\n",
       "    <tr>\n",
       "      <th>45</th>\n",
       "      <td>NaN</td>\n",
       "      <td>NaN</td>\n",
       "    </tr>\n",
       "    <tr>\n",
       "      <th>46</th>\n",
       "      <td>NaN</td>\n",
       "      <td>NaN</td>\n",
       "    </tr>\n",
       "    <tr>\n",
       "      <th>47</th>\n",
       "      <td>NaN</td>\n",
       "      <td>NaN</td>\n",
       "    </tr>\n",
       "    <tr>\n",
       "      <th>48</th>\n",
       "      <td>NaN</td>\n",
       "      <td>NaN</td>\n",
       "    </tr>\n",
       "    <tr>\n",
       "      <th>49</th>\n",
       "      <td>NaN</td>\n",
       "      <td>NaN</td>\n",
       "    </tr>\n",
       "    <tr>\n",
       "      <th>50</th>\n",
       "      <td>NaN</td>\n",
       "      <td>NaN</td>\n",
       "    </tr>\n",
       "  </tbody>\n",
       "</table>\n",
       "</div>"
      ],
      "text/plain": [
       "    Unit A  Unit B\n",
       "0   6.8090  6.7703\n",
       "1   6.4376  7.5093\n",
       "2   6.9157  6.7300\n",
       "3   7.3012  6.7878\n",
       "4   7.4488  7.1522\n",
       "5   7.3871  6.8110\n",
       "6   6.8755  7.2212\n",
       "7   7.0621  6.6606\n",
       "8   6.6840  7.2402\n",
       "9   6.8236  7.0503\n",
       "10  7.3930  6.8810\n",
       "11  7.5169  7.4059\n",
       "12  6.9246  6.7652\n",
       "13  6.9256  6.0380\n",
       "14  6.5797  7.1581\n",
       "15  6.8394  7.0240\n",
       "16  6.5970  6.6672\n",
       "17  7.2705  7.4314\n",
       "18  7.2828  7.3070\n",
       "19  7.3495  6.7478\n",
       "20  6.9438  6.8889\n",
       "21  7.1560  7.4220\n",
       "22  6.5341  6.5217\n",
       "23  7.2854  7.1688\n",
       "24  6.9952  6.7594\n",
       "25  6.8568  6.9399\n",
       "26  7.2163  7.0133\n",
       "27  6.6801  6.9182\n",
       "28  6.9431  6.3346\n",
       "29  7.0852  7.5459\n",
       "30  6.7794  7.0992\n",
       "31  7.2783  7.1180\n",
       "32  7.1561  6.6965\n",
       "33  7.3943  6.5780\n",
       "34  6.9405  7.3875\n",
       "35     NaN     NaN\n",
       "36     NaN     NaN\n",
       "37     NaN     NaN\n",
       "38     NaN     NaN\n",
       "39     NaN     NaN\n",
       "40     NaN     NaN\n",
       "41     NaN     NaN\n",
       "42     NaN     NaN\n",
       "43     NaN     NaN\n",
       "44     NaN     NaN\n",
       "45     NaN     NaN\n",
       "46     NaN     NaN\n",
       "47     NaN     NaN\n",
       "48     NaN     NaN\n",
       "49     NaN     NaN\n",
       "50     NaN     NaN"
      ]
     },
     "execution_count": 7,
     "metadata": {},
     "output_type": "execute_result"
    }
   ],
   "source": [
    "#Load Dataset\n",
    "cutlets_df=pd.read_csv(\"Cutlets.csv\")\n",
    "cutlets_df"
   ]
  },
  {
   "cell_type": "code",
   "execution_count": 12,
   "id": "8d4fcc0a-0927-4445-8298-f48a2ba9fdfc",
   "metadata": {},
   "outputs": [],
   "source": [
    "# Remove rows with missing values\n",
    "cutlets_df.dropna(inplace=True)"
   ]
  },
  {
   "cell_type": "code",
   "execution_count": 13,
   "id": "5ce3e494-c439-48ca-a471-4f99b4e670be",
   "metadata": {},
   "outputs": [
    {
     "data": {
      "text/plain": [
       "Unit A    0\n",
       "Unit B    0\n",
       "dtype: int64"
      ]
     },
     "execution_count": 13,
     "metadata": {},
     "output_type": "execute_result"
    }
   ],
   "source": [
    "# Verify if missing values are removed\n",
    "cutlets_df.isnull().sum()"
   ]
  },
  {
   "cell_type": "code",
   "execution_count": 14,
   "id": "7e37cc04-8d08-411f-b5a0-015018569f11",
   "metadata": {},
   "outputs": [
    {
     "data": {
      "text/html": [
       "<div>\n",
       "<style scoped>\n",
       "    .dataframe tbody tr th:only-of-type {\n",
       "        vertical-align: middle;\n",
       "    }\n",
       "\n",
       "    .dataframe tbody tr th {\n",
       "        vertical-align: top;\n",
       "    }\n",
       "\n",
       "    .dataframe thead th {\n",
       "        text-align: right;\n",
       "    }\n",
       "</style>\n",
       "<table border=\"1\" class=\"dataframe\">\n",
       "  <thead>\n",
       "    <tr style=\"text-align: right;\">\n",
       "      <th></th>\n",
       "      <th>Unit A</th>\n",
       "      <th>Unit B</th>\n",
       "    </tr>\n",
       "  </thead>\n",
       "  <tbody>\n",
       "    <tr>\n",
       "      <th>0</th>\n",
       "      <td>6.8090</td>\n",
       "      <td>6.7703</td>\n",
       "    </tr>\n",
       "    <tr>\n",
       "      <th>1</th>\n",
       "      <td>6.4376</td>\n",
       "      <td>7.5093</td>\n",
       "    </tr>\n",
       "    <tr>\n",
       "      <th>2</th>\n",
       "      <td>6.9157</td>\n",
       "      <td>6.7300</td>\n",
       "    </tr>\n",
       "    <tr>\n",
       "      <th>3</th>\n",
       "      <td>7.3012</td>\n",
       "      <td>6.7878</td>\n",
       "    </tr>\n",
       "    <tr>\n",
       "      <th>4</th>\n",
       "      <td>7.4488</td>\n",
       "      <td>7.1522</td>\n",
       "    </tr>\n",
       "  </tbody>\n",
       "</table>\n",
       "</div>"
      ],
      "text/plain": [
       "   Unit A  Unit B\n",
       "0  6.8090  6.7703\n",
       "1  6.4376  7.5093\n",
       "2  6.9157  6.7300\n",
       "3  7.3012  6.7878\n",
       "4  7.4488  7.1522"
      ]
     },
     "execution_count": 14,
     "metadata": {},
     "output_type": "execute_result"
    }
   ],
   "source": [
    "# Display cleaned dataset\n",
    "cutlets_df.head()"
   ]
  },
  {
   "cell_type": "code",
   "execution_count": 15,
   "id": "25f59c6d-5fb0-4ae9-9fa2-88e1a3892a5b",
   "metadata": {},
   "outputs": [
    {
     "data": {
      "text/html": [
       "<div>\n",
       "<style scoped>\n",
       "    .dataframe tbody tr th:only-of-type {\n",
       "        vertical-align: middle;\n",
       "    }\n",
       "\n",
       "    .dataframe tbody tr th {\n",
       "        vertical-align: top;\n",
       "    }\n",
       "\n",
       "    .dataframe thead th {\n",
       "        text-align: right;\n",
       "    }\n",
       "</style>\n",
       "<table border=\"1\" class=\"dataframe\">\n",
       "  <thead>\n",
       "    <tr style=\"text-align: right;\">\n",
       "      <th></th>\n",
       "      <th>Unit A</th>\n",
       "      <th>Unit B</th>\n",
       "    </tr>\n",
       "  </thead>\n",
       "  <tbody>\n",
       "    <tr>\n",
       "      <th>count</th>\n",
       "      <td>35.000000</td>\n",
       "      <td>35.000000</td>\n",
       "    </tr>\n",
       "    <tr>\n",
       "      <th>mean</th>\n",
       "      <td>7.019091</td>\n",
       "      <td>6.964297</td>\n",
       "    </tr>\n",
       "    <tr>\n",
       "      <th>std</th>\n",
       "      <td>0.288408</td>\n",
       "      <td>0.343401</td>\n",
       "    </tr>\n",
       "    <tr>\n",
       "      <th>min</th>\n",
       "      <td>6.437600</td>\n",
       "      <td>6.038000</td>\n",
       "    </tr>\n",
       "    <tr>\n",
       "      <th>25%</th>\n",
       "      <td>6.831500</td>\n",
       "      <td>6.753600</td>\n",
       "    </tr>\n",
       "    <tr>\n",
       "      <th>50%</th>\n",
       "      <td>6.943800</td>\n",
       "      <td>6.939900</td>\n",
       "    </tr>\n",
       "    <tr>\n",
       "      <th>75%</th>\n",
       "      <td>7.280550</td>\n",
       "      <td>7.195000</td>\n",
       "    </tr>\n",
       "    <tr>\n",
       "      <th>max</th>\n",
       "      <td>7.516900</td>\n",
       "      <td>7.545900</td>\n",
       "    </tr>\n",
       "  </tbody>\n",
       "</table>\n",
       "</div>"
      ],
      "text/plain": [
       "          Unit A     Unit B\n",
       "count  35.000000  35.000000\n",
       "mean    7.019091   6.964297\n",
       "std     0.288408   0.343401\n",
       "min     6.437600   6.038000\n",
       "25%     6.831500   6.753600\n",
       "50%     6.943800   6.939900\n",
       "75%     7.280550   7.195000\n",
       "max     7.516900   7.545900"
      ]
     },
     "execution_count": 15,
     "metadata": {},
     "output_type": "execute_result"
    }
   ],
   "source": [
    "# Descriptive Statistics\n",
    "cutlets_df.describe()"
   ]
  },
  {
   "cell_type": "code",
   "execution_count": 19,
   "id": "e1c15b74-26c7-492d-8198-268462039c2a",
   "metadata": {},
   "outputs": [
    {
     "data": {
      "image/png": "[encoded data removed]",
      "text/plain": [
       "<Figure size 1200x600 with 1 Axes>"
      ]
     },
     "metadata": {},
     "output_type": "display_data"
    }
   ],
   "source": [
    "# Visualize distribution\n",
    "plt.figure(figsize=(12, 6))\n",
    "sns.histplot(cutlets_df['Unit A'], kde=True, color='blue', label='Unit A')\n",
    "sns.histplot(cutlets_df['Unit B'], kde=True, color='red', label='Unit B')\n",
    "plt.title('Distribution of Cutlet Diameters')\n",
    "plt.legend()\n",
    "plt.show()\n"
   ]
  },
  {
   "cell_type": "code",
   "execution_count": 20,
   "id": "1de93e99-6c2e-4181-a2aa-56230d2be2f6",
   "metadata": {},
   "outputs": [
    {
     "data": {
      "image/png": "[encoded data removed]",
      "text/plain": [
       "<Figure size 800x600 with 1 Axes>"
      ]
     },
     "metadata": {},
     "output_type": "display_data"
    }
   ],
   "source": [
    "# Boxplot to check for outliers\n",
    "plt.figure(figsize=(8, 6))\n",
    "sns.boxplot(data=cutlets_df)\n",
    "plt.title('Boxplot of Cutlet Diameters')\n",
    "plt.show()"
   ]
  },
  {
   "cell_type": "code",
   "execution_count": 22,
   "id": "c7c656a0-6bf3-4d39-a4e9-f83665236299",
   "metadata": {},
   "outputs": [],
   "source": [
    "# Remove outliers using IQR method\n",
    "Q1 = cutlets_df.quantile(0.25)\n",
    "Q3 = cutlets_df.quantile(0.75)\n",
    "IQR = Q3 - Q1\n",
    "cutlets_df = cutlets_df[~((cutlets_df < (Q1 - 1.5 * IQR)) | (cutlets_df > (Q3 + 1.5 * IQR))).any(axis=1)]"
   ]
  },
  {
   "cell_type": "code",
   "execution_count": 24,
   "id": "ef2afa6b-b6f2-4fae-97a3-4b0e453326f7",
   "metadata": {},
   "outputs": [
    {
     "data": {
      "text/html": [
       "<div>\n",
       "<style scoped>\n",
       "    .dataframe tbody tr th:only-of-type {\n",
       "        vertical-align: middle;\n",
       "    }\n",
       "\n",
       "    .dataframe tbody tr th {\n",
       "        vertical-align: top;\n",
       "    }\n",
       "\n",
       "    .dataframe thead th {\n",
       "        text-align: right;\n",
       "    }\n",
       "</style>\n",
       "<table border=\"1\" class=\"dataframe\">\n",
       "  <thead>\n",
       "    <tr style=\"text-align: right;\">\n",
       "      <th></th>\n",
       "      <th>Unit A</th>\n",
       "      <th>Unit B</th>\n",
       "    </tr>\n",
       "  </thead>\n",
       "  <tbody>\n",
       "    <tr>\n",
       "      <th>count</th>\n",
       "      <td>34.000000</td>\n",
       "      <td>34.000000</td>\n",
       "    </tr>\n",
       "    <tr>\n",
       "      <th>mean</th>\n",
       "      <td>7.021841</td>\n",
       "      <td>6.991541</td>\n",
       "    </tr>\n",
       "    <tr>\n",
       "      <th>std</th>\n",
       "      <td>0.292280</td>\n",
       "      <td>0.307786</td>\n",
       "    </tr>\n",
       "    <tr>\n",
       "      <th>min</th>\n",
       "      <td>6.437600</td>\n",
       "      <td>6.334600</td>\n",
       "    </tr>\n",
       "    <tr>\n",
       "      <th>25%</th>\n",
       "      <td>6.827550</td>\n",
       "      <td>6.760850</td>\n",
       "    </tr>\n",
       "    <tr>\n",
       "      <th>50%</th>\n",
       "      <td>6.969500</td>\n",
       "      <td>6.976600</td>\n",
       "    </tr>\n",
       "    <tr>\n",
       "      <th>75%</th>\n",
       "      <td>7.281675</td>\n",
       "      <td>7.208100</td>\n",
       "    </tr>\n",
       "    <tr>\n",
       "      <th>max</th>\n",
       "      <td>7.516900</td>\n",
       "      <td>7.545900</td>\n",
       "    </tr>\n",
       "  </tbody>\n",
       "</table>\n",
       "</div>"
      ],
      "text/plain": [
       "          Unit A     Unit B\n",
       "count  34.000000  34.000000\n",
       "mean    7.021841   6.991541\n",
       "std     0.292280   0.307786\n",
       "min     6.437600   6.334600\n",
       "25%     6.827550   6.760850\n",
       "50%     6.969500   6.976600\n",
       "75%     7.281675   7.208100\n",
       "max     7.516900   7.545900"
      ]
     },
     "execution_count": 24,
     "metadata": {},
     "output_type": "execute_result"
    }
   ],
   "source": [
    "cutlets_df.describe()"
   ]
  },
  {
   "cell_type": "code",
   "execution_count": 25,
   "id": "54ebcbbe-e432-4f27-b3d1-5b89642f4e5f",
   "metadata": {},
   "outputs": [
    {
     "data": {
      "image/png": "[encoded data removed]",
      "text/plain": [
       "<Figure size 800x600 with 1 Axes>"
      ]
     },
     "metadata": {},
     "output_type": "display_data"
    }
   ],
   "source": [
    "# Recheck for outliers after removal\n",
    "plt.figure(figsize=(8, 6))\n",
    "sns.boxplot(data=cutlets_df)\n",
    "plt.title('Boxplot After Outlier Removal')\n",
    "plt.show()"
   ]
  },
  {
   "cell_type": "code",
   "execution_count": 30,
   "id": "eb58054a-8771-455d-9975-ffb754acab8d",
   "metadata": {},
   "outputs": [
    {
     "data": {
      "text/plain": [
       "ShapiroResult(statistic=0.9633971452713013, pvalue=0.3045896589756012)"
      ]
     },
     "execution_count": 30,
     "metadata": {},
     "output_type": "execute_result"
    }
   ],
   "source": [
    "# Normality Test (Shapiro-Wilk Test)\n",
    "#stats.shapiro() for both Unit A and Unit B.\n",
    "shapiro_unit_a = stats.shapiro(cutlets_df['Unit A'])\n",
    "shapiro_unit_a"
   ]
  },
  {
   "cell_type": "code",
   "execution_count": 33,
   "id": "6473c27d-c1e2-48d5-bac8-8513151ec3c2",
   "metadata": {},
   "outputs": [
    {
     "data": {
      "text/plain": [
       "ShapiroResult(statistic=0.9738743901252747, pvalue=0.5758983492851257)"
      ]
     },
     "execution_count": 33,
     "metadata": {},
     "output_type": "execute_result"
    }
   ],
   "source": [
    "shapiro_unit_b = stats.shapiro(cutlets_df['Unit B'])\n",
    "shapiro_unit_b\n"
   ]
  },
  {
   "cell_type": "markdown",
   "id": "a6dcd6be-3877-4e3e-9a47-2ff58dd7fa42",
   "metadata": {},
   "source": [
    "p > 0.05: Fail to reject the null hypothesis → Data is normally distributed.\n",
    "\n",
    "p ≤ 0.05: Reject the null hypothesis → Data is not normally distributed."
   ]
  },
  {
   "cell_type": "markdown",
   "id": "a9fa9bfd-4e63-4e2b-895d-03f13ef542da",
   "metadata": {},
   "source": [
    "Since both 0.30 and 0.57 are greater than 0.05, the Shapiro-Wilk test confirms that the data from Unit A and Unit B are normally distributed."
   ]
  },
  {
   "cell_type": "code",
   "execution_count": 37,
   "id": "18c8fe63-6db9-4150-9b2a-41dafc170c50",
   "metadata": {},
   "outputs": [
    {
     "data": {
      "text/plain": [
       "LeveneResult(statistic=0.08365678433564598, pvalue=0.7733082930071483)"
      ]
     },
     "execution_count": 37,
     "metadata": {},
     "output_type": "execute_result"
    }
   ],
   "source": [
    "# Equal Variance Test (Levene's Test)\n",
    "levene_test = stats.levene(cutlets_df['Unit A'], cutlets_df['Unit B'])\n",
    "levene_test"
   ]
  },
  {
   "cell_type": "markdown",
   "id": "75eb045b-9e84-460c-9e07-4164f4997921",
   "metadata": {},
   "source": [
    "# 3.Model Building\n"
   ]
  },
  {
   "cell_type": "code",
   "execution_count": 34,
   "id": "c918b51b-dcb5-4fbe-b039-79c3f943f2ff",
   "metadata": {},
   "outputs": [],
   "source": [
    "# 3.1 Partition the dataset (no specific target variable, so using full dataset)\n",
    "unit_a = cutlets_df['Unit A']\n",
    "unit_b = cutlets_df['Unit B']"
   ]
  },
  {
   "cell_type": "code",
   "execution_count": 52,
   "id": "85f40e34-60a5-426f-83d4-0db2702467a3",
   "metadata": {},
   "outputs": [],
   "source": [
    "# 3.2 Perform Independent t-test (as data is continuous and normally distributed)\n",
    "# Hypothesis:\n",
    "# H0: There is no significant difference between the means of Unit A and Unit B\n",
    "# H1: There is a significant difference between the means of Unit A and Unit B\n",
    "def perform_t_test(unit_a, unit_b):\n",
    "    t_test = stats.ttest_ind(unit_a, unit_b)\n",
    "    print(\"T-test result:\", t_test)\n",
    "    if t_test.pvalue < 0.05:\n",
    "        print(\"Reject Null Hypothesis: Significant difference exists between Unit A and Unit B.\")\n",
    "    else:\n",
    "        print(\"Fail to Reject Null Hypothesis: No significant difference between Unit A and Unit B.\")"
   ]
  },
  {
   "cell_type": "code",
   "execution_count": 54,
   "id": "607baba6-6957-4e87-8b02-a7d5701cf272",
   "metadata": {},
   "outputs": [
    {
     "name": "stdout",
     "output_type": "stream",
     "text": [
      "Fail to Reject Null Hypothesis: No significant difference between Unit A and Unit B.\n"
     ]
    }
   ],
   "source": [
    "# 3.3 Model Improvement - Ensuring assumptions hold:\n",
    "# 1. Normality of data (checked with Shapiro-Wilk test)\n",
    "# 2. Homogeneity of variance (checked with Levene's test)\n",
    "# If assumptions fail, consider using non-parametric tests (e.g., Mann-Whitney U Test)\n",
    "def perform_mannwhitney_test(unit_a, unit_b):\n",
    "    mw_test = stats.mannwhitneyu(unit_a, unit_b)\n",
    "    mw_test\n",
    "    if mw_test.pvalue < 0.05:\n",
    "        print(\"Reject Null Hypothesis: Significant difference exists between Unit A and Unit B.\")\n",
    "    else:\n",
    "        print(\"Fail to Reject Null Hypothesis: No significant difference between Unit A and Unit B.\")\n",
    "perform_mannwhitney_test(unit_a, unit_b)"
   ]
  },
  {
   "cell_type": "code",
   "execution_count": 55,
   "id": "3612ce67-d995-405a-a0a4-40078309a1f4",
   "metadata": {},
   "outputs": [
    {
     "name": "stdout",
     "output_type": "stream",
     "text": [
      "Assumptions met. Performing t-test...\n",
      "T-test result: Ttest_indResult(statistic=0.41624950154151424, pvalue=0.678577951904273)\n",
      "Fail to Reject Null Hypothesis: No significant difference between Unit A and Unit B.\n"
     ]
    }
   ],
   "source": [
    "if (shapiro_unit_a.pvalue > 0.05) and (shapiro_unit_b.pvalue > 0.05) and (levene_test.pvalue > 0.05):\n",
    "    print(\"Assumptions met. Performing t-test...\")\n",
    "    perform_t_test(unit_a, unit_b)\n",
    "else:\n",
    "    print(\"Assumptions not met. Performing Mann-Whitney U Test...\")\n",
    "    perform_mannwhitney_test(unit_a, unit_b)\n"
   ]
  },
  {
   "cell_type": "markdown",
   "id": "90fab6ab-0459-42c0-9adc-427714b47dba",
   "metadata": {},
   "source": [
    "# 4. Result - Business Impact"
   ]
  },
  {
   "cell_type": "markdown",
   "id": "5047f736-71d1-4313-bb66-0f7cb0187a0c",
   "metadata": {},
   "source": [
    "- Improved Quality Control: Helps identify variations in cutlet production across units.\n",
    "    \n",
    "- Data-Driven Decisions: Provides statistical evidence to support operational changes.\n",
    "    \n",
    "- Cost Efficiency: Detects inconsistencies early, reducing waste and rework.\n",
    "    \n",
    "- Customer Satisfaction: Ensures consistent product quality across production units.\n",
    "    \n",
    "- Continuous Monitoring: Enables regular analysis for ongoing process improvements."
   ]
  },
  {
   "cell_type": "code",
   "execution_count": null,
   "id": "20e882b9-6e93-4c8b-b86c-b8fa89abfc74",
   "metadata": {},
   "outputs": [],
   "source": []
  }
 ],
 "metadata": {
  "kernelspec": {
   "display_name": "Python 3 (ipykernel)",
   "language": "python",
   "name": "python3"
  },
  "language_info": {
   "codemirror_mode": {
    "name": "ipython",
    "version": 3
   },
   "file_extension": ".py",
   "mimetype": "text/x-python",
   "name": "python",
   "nbconvert_exporter": "python",
   "pygments_lexer": "ipython3",
   "version": "3.11.4"
  }
 },
 "nbformat": 4,
 "nbformat_minor": 5
}
