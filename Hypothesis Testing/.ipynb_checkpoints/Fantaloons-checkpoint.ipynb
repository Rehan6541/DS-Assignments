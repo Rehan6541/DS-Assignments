{
 "cells": [
  {
   "cell_type": "markdown",
   "id": "cc98ab26-3426-453b-9923-ea348f5f1346",
   "metadata": {},
   "source": [
    "5.)\tFantaloons Sales managers commented that % of males versus females walking into the store differ based on day of the week. Analyze the data and determine whether there is evidence at 5 % significance level to support this hypothesis."
   ]
  },
  {
   "cell_type": "markdown",
   "id": "d682f5d2-e49a-4354-8881-a9ffa59ee965",
   "metadata": {},
   "source": [
    "### 1.1 Objective\n",
    "To determine whether the percentage of males versus females walking into the store differs based on the day of the week."
   ]
  },
  {
   "cell_type": "markdown",
   "id": "44350a1f-cd71-4181-ae3e-13714573bc13",
   "metadata": {},
   "source": [
    "### 1.2 Constraints\n",
    "Analyze the data at a 5% significance level (α = 0.05)\n",
    "\n",
    "Ensure accurate data preprocessing and cleaning\n",
    "\n",
    "Handle missing values and duplicates appropriately\n",
    "\n",
    "Ensure interpretability of statistical results\n"
   ]
  },
  {
   "cell_type": "code",
   "execution_count": 2,
   "id": "4c04bc78-98bc-4860-a90f-5f0884757586",
   "metadata": {},
   "outputs": [],
   "source": [
    "# Import necessary libraries\n",
    "import pandas as pd\n",
    "from scipy.stats import chi2_contingency"
   ]
  },
  {
   "cell_type": "markdown",
   "id": "4f790777-9b8e-4bac-9887-66db66787870",
   "metadata": {},
   "source": [
    "# 2. Data Pre-processing"
   ]
  },
  {
   "cell_type": "code",
   "execution_count": 15,
   "id": "a09d4982-c5e8-41ba-beb8-f517f503a49b",
   "metadata": {},
   "outputs": [
    {
     "data": {
      "text/html": [
       "<div>\n",
       "<style scoped>\n",
       "    .dataframe tbody tr th:only-of-type {\n",
       "        vertical-align: middle;\n",
       "    }\n",
       "\n",
       "    .dataframe tbody tr th {\n",
       "        vertical-align: top;\n",
       "    }\n",
       "\n",
       "    .dataframe thead th {\n",
       "        text-align: right;\n",
       "    }\n",
       "</style>\n",
       "<table border=\"1\" class=\"dataframe\">\n",
       "  <thead>\n",
       "    <tr style=\"text-align: right;\">\n",
       "      <th></th>\n",
       "      <th>Weekdays</th>\n",
       "      <th>Weekend</th>\n",
       "    </tr>\n",
       "  </thead>\n",
       "  <tbody>\n",
       "    <tr>\n",
       "      <th>0</th>\n",
       "      <td>Male</td>\n",
       "      <td>Female</td>\n",
       "    </tr>\n",
       "    <tr>\n",
       "      <th>1</th>\n",
       "      <td>Female</td>\n",
       "      <td>Male</td>\n",
       "    </tr>\n",
       "    <tr>\n",
       "      <th>2</th>\n",
       "      <td>Female</td>\n",
       "      <td>Male</td>\n",
       "    </tr>\n",
       "    <tr>\n",
       "      <th>3</th>\n",
       "      <td>Male</td>\n",
       "      <td>Female</td>\n",
       "    </tr>\n",
       "    <tr>\n",
       "      <th>4</th>\n",
       "      <td>Female</td>\n",
       "      <td>Female</td>\n",
       "    </tr>\n",
       "    <tr>\n",
       "      <th>...</th>\n",
       "      <td>...</td>\n",
       "      <td>...</td>\n",
       "    </tr>\n",
       "    <tr>\n",
       "      <th>420</th>\n",
       "      <td>NaN</td>\n",
       "      <td>NaN</td>\n",
       "    </tr>\n",
       "    <tr>\n",
       "      <th>421</th>\n",
       "      <td>NaN</td>\n",
       "      <td>NaN</td>\n",
       "    </tr>\n",
       "    <tr>\n",
       "      <th>422</th>\n",
       "      <td>NaN</td>\n",
       "      <td>NaN</td>\n",
       "    </tr>\n",
       "    <tr>\n",
       "      <th>423</th>\n",
       "      <td>NaN</td>\n",
       "      <td>NaN</td>\n",
       "    </tr>\n",
       "    <tr>\n",
       "      <th>424</th>\n",
       "      <td>NaN</td>\n",
       "      <td>NaN</td>\n",
       "    </tr>\n",
       "  </tbody>\n",
       "</table>\n",
       "<p>425 rows × 2 columns</p>\n",
       "</div>"
      ],
      "text/plain": [
       "    Weekdays Weekend\n",
       "0       Male  Female\n",
       "1     Female    Male\n",
       "2     Female    Male\n",
       "3       Male  Female\n",
       "4     Female  Female\n",
       "..       ...     ...\n",
       "420      NaN     NaN\n",
       "421      NaN     NaN\n",
       "422      NaN     NaN\n",
       "423      NaN     NaN\n",
       "424      NaN     NaN\n",
       "\n",
       "[425 rows x 2 columns]"
      ]
     },
     "execution_count": 15,
     "metadata": {},
     "output_type": "execute_result"
    }
   ],
   "source": [
    "#Load Dataset\n",
    "Fantaloons = pd.read_csv(\"Fantaloons.csv\")\n",
    "Fantaloons"
   ]
  },
  {
   "cell_type": "code",
   "execution_count": 16,
   "id": "fd04e591-03e9-4cdb-96a4-6b308816040c",
   "metadata": {},
   "outputs": [
    {
     "data": {
      "text/html": [
       "<div>\n",
       "<style scoped>\n",
       "    .dataframe tbody tr th:only-of-type {\n",
       "        vertical-align: middle;\n",
       "    }\n",
       "\n",
       "    .dataframe tbody tr th {\n",
       "        vertical-align: top;\n",
       "    }\n",
       "\n",
       "    .dataframe thead th {\n",
       "        text-align: right;\n",
       "    }\n",
       "</style>\n",
       "<table border=\"1\" class=\"dataframe\">\n",
       "  <thead>\n",
       "    <tr style=\"text-align: right;\">\n",
       "      <th></th>\n",
       "      <th>Weekdays</th>\n",
       "      <th>Weekend</th>\n",
       "    </tr>\n",
       "  </thead>\n",
       "  <tbody>\n",
       "    <tr>\n",
       "      <th>0</th>\n",
       "      <td>Male</td>\n",
       "      <td>Female</td>\n",
       "    </tr>\n",
       "    <tr>\n",
       "      <th>1</th>\n",
       "      <td>Female</td>\n",
       "      <td>Male</td>\n",
       "    </tr>\n",
       "    <tr>\n",
       "      <th>2</th>\n",
       "      <td>Female</td>\n",
       "      <td>Male</td>\n",
       "    </tr>\n",
       "    <tr>\n",
       "      <th>3</th>\n",
       "      <td>Male</td>\n",
       "      <td>Female</td>\n",
       "    </tr>\n",
       "    <tr>\n",
       "      <th>4</th>\n",
       "      <td>Female</td>\n",
       "      <td>Female</td>\n",
       "    </tr>\n",
       "  </tbody>\n",
       "</table>\n",
       "</div>"
      ],
      "text/plain": [
       "  Weekdays Weekend\n",
       "0     Male  Female\n",
       "1   Female    Male\n",
       "2   Female    Male\n",
       "3     Male  Female\n",
       "4   Female  Female"
      ]
     },
     "execution_count": 16,
     "metadata": {},
     "output_type": "execute_result"
    }
   ],
   "source": [
    "# Display basic information about the dataset\n",
    "Fantaloons.head()"
   ]
  },
  {
   "cell_type": "code",
   "execution_count": 17,
   "id": "c92c8c9e-d705-4e15-87b0-8b7ae5ebf0c3",
   "metadata": {},
   "outputs": [
    {
     "name": "stdout",
     "output_type": "stream",
     "text": [
      "<class 'pandas.core.frame.DataFrame'>\n",
      "RangeIndex: 425 entries, 0 to 424\n",
      "Data columns (total 2 columns):\n",
      " #   Column    Non-Null Count  Dtype \n",
      "---  ------    --------------  ----- \n",
      " 0   Weekdays  400 non-null    object\n",
      " 1   Weekend   400 non-null    object\n",
      "dtypes: object(2)\n",
      "memory usage: 6.8+ KB\n"
     ]
    }
   ],
   "source": [
    "Fantaloons.info()"
   ]
  },
  {
   "cell_type": "code",
   "execution_count": 18,
   "id": "80740aed-589a-462b-a8a3-8086e3fc233d",
   "metadata": {},
   "outputs": [
    {
     "data": {
      "text/plain": [
       "Weekdays    25\n",
       "Weekend     25\n",
       "dtype: int64"
      ]
     },
     "execution_count": 18,
     "metadata": {},
     "output_type": "execute_result"
    }
   ],
   "source": [
    "# Check for missing values\n",
    "Fantaloons.isnull().sum()"
   ]
  },
  {
   "cell_type": "code",
   "execution_count": 19,
   "id": "b3c2da93-f538-4db5-ad9d-8fc8c6ad9436",
   "metadata": {},
   "outputs": [],
   "source": [
    "# Handle missing values (if any)\n",
    "if Fantaloons.isnull().sum().sum() > 0:\n",
    "    Fantaloons.fillna('Unknown', inplace=True)\n"
   ]
  },
  {
   "cell_type": "code",
   "execution_count": 20,
   "id": "b19228dd-34fd-4a57-81bb-58a5f4f7d52d",
   "metadata": {},
   "outputs": [
    {
     "data": {
      "text/plain": [
       "Weekdays    0\n",
       "Weekend     0\n",
       "dtype: int64"
      ]
     },
     "execution_count": 20,
     "metadata": {},
     "output_type": "execute_result"
    }
   ],
   "source": [
    "# Verify no missing values remain\n",
    "Fantaloons.isnull().sum()"
   ]
  },
  {
   "cell_type": "code",
   "execution_count": 21,
   "id": "c0f8cca2-01d7-439a-910d-65520a7434bd",
   "metadata": {},
   "outputs": [
    {
     "name": "stdout",
     "output_type": "stream",
     "text": [
      "Duplicate Rows Before Removal: 420\n",
      "Duplicate Rows After Removal: 0\n"
     ]
    }
   ],
   "source": [
    "# Check for duplicate rows and remove them\n",
    "print(\"Duplicate Rows Before Removal:\", Fantaloons.duplicated().sum())\n",
    "Fantaloons.drop_duplicates(inplace=True)\n",
    "print(\"Duplicate Rows After Removal:\", Fantaloons.duplicated().sum())"
   ]
  },
  {
   "cell_type": "code",
   "execution_count": 22,
   "id": "3c67885c-fee4-4f16-b5d1-5c88ee38531b",
   "metadata": {},
   "outputs": [],
   "source": [
    "# Standardize column names\n",
    "Fantaloons.columns = [col.strip().lower().replace(\" \", \"_\") for col in Fantaloons.columns]"
   ]
  },
  {
   "cell_type": "code",
   "execution_count": 23,
   "id": "22709f5a-f124-47e0-91bd-88b954bf72b3",
   "metadata": {},
   "outputs": [
    {
     "name": "stdout",
     "output_type": "stream",
     "text": [
      "Cleaned Data Head:\n",
      "     weekdays  weekend\n",
      "0       Male   Female\n",
      "1     Female     Male\n",
      "4     Female   Female\n",
      "17      Male     Male\n",
      "400  Unknown  Unknown\n"
     ]
    }
   ],
   "source": [
    "# Display cleaned data\n",
    "print(\"Cleaned Data Head:\\n\", Fantaloons.head())"
   ]
  },
  {
   "cell_type": "code",
   "execution_count": 33,
   "id": "c9850fc5-a764-48ec-8a37-dd4e22010afd",
   "metadata": {},
   "outputs": [
    {
     "name": "stdout",
     "output_type": "stream",
     "text": [
      "Column Names: Index(['weekdays', 'weekend'], dtype='object')\n"
     ]
    }
   ],
   "source": [
    "# Verify column names\n",
    "print(\"Column Names:\", Fantaloons.columns)"
   ]
  },
  {
   "cell_type": "code",
   "execution_count": 34,
   "id": "57753f42-835e-4a26-a700-b5d8735e6ea7",
   "metadata": {},
   "outputs": [
    {
     "name": "stdout",
     "output_type": "stream",
     "text": [
      "Column Names in Dataset: ['weekdays', 'weekend']\n",
      "    weekdays  weekend\n",
      "0       Male   Female\n",
      "1     Female     Male\n",
      "4     Female   Female\n",
      "17      Male     Male\n",
      "400  Unknown  Unknown\n"
     ]
    }
   ],
   "source": [
    "# Print all column names to verify\n",
    "print(\"Column Names in Dataset:\", Fantaloons.columns.tolist())\n",
    "\n",
    "# Display a few rows to inspect the dataset structure\n",
    "print(Fantaloons.head())"
   ]
  },
  {
   "cell_type": "code",
   "execution_count": 36,
   "id": "8b749fac-5907-4ebc-ae69-efe42325e17c",
   "metadata": {},
   "outputs": [
    {
     "name": "stdout",
     "output_type": "stream",
     "text": [
      "Unique values in 'weekdays': ['Male' 'Female' 'Unknown']\n",
      "Unique values in 'weekend': ['Female' 'Male' 'Unknown']\n"
     ]
    }
   ],
   "source": [
    "# Display unique values for each column to identify gender columns\n",
    "for col in Fantaloons.columns:\n",
    "    print(f\"Unique values in '{col}':\", Fantaloons[col].unique())\n",
    "\n"
   ]
  },
  {
   "cell_type": "code",
   "execution_count": 37,
   "id": "ec45cffa-e588-409c-9ef2-e12fe9c0f34d",
   "metadata": {},
   "outputs": [
    {
     "name": "stdout",
     "output_type": "stream",
     "text": [
      "Assumed Gender Columns: Index(['weekdays', 'weekend'], dtype='object')\n"
     ]
    }
   ],
   "source": [
    "# Identify gender columns dynamically\n",
    "gender_columns = Fantaloons.columns[:2]  # Assuming the first two columns represent gender\n",
    "print(\"Assumed Gender Columns:\", gender_columns)"
   ]
  },
  {
   "cell_type": "code",
   "execution_count": 38,
   "id": "2faaf0f6-7926-4308-b449-a6a5ec36ec6f",
   "metadata": {},
   "outputs": [],
   "source": [
    "# Convert gender data to numeric values (1 for Male, 0 for Female)\n",
    "for col in gender_columns:\n",
    "    Fantaloons[col] = Fantaloons[col].str.strip().str.lower().map({'male': 1, 'female': 0})"
   ]
  },
  {
   "cell_type": "code",
   "execution_count": 39,
   "id": "4bd14647-159d-481b-a18c-dd30b4dca68c",
   "metadata": {},
   "outputs": [
    {
     "name": "stdout",
     "output_type": "stream",
     "text": [
      "Converted weekdays Values: [ 1.  0. nan]\n",
      "Converted weekend Values: [ 0.  1. nan]\n"
     ]
    }
   ],
   "source": [
    "# Check conversion success\n",
    "for col in gender_columns:\n",
    "    print(f\"Converted {col} Values:\", Fantaloons[col].unique())"
   ]
  },
  {
   "cell_type": "code",
   "execution_count": 42,
   "id": "e3faeb38-4623-47ae-aaff-b17a5ab234a5",
   "metadata": {},
   "outputs": [
    {
     "name": "stdout",
     "output_type": "stream",
     "text": [
      "Contingency Table:\n",
      "           0.0  1.0\n",
      "Weekdays    2    2\n",
      "Weekend     2    2\n"
     ]
    }
   ],
   "source": [
    "# Create a contingency table\n",
    "contingency_table = pd.DataFrame({\n",
    "    'Weekdays': Fantaloons[gender_columns[0]].value_counts(),\n",
    "    'Weekend': Fantaloons[gender_columns[1]].value_counts()\n",
    "}).T\n",
    "contingency_table = contingency_table.fillna(0).astype(int)\n",
    "print(\"Contingency Table:\\n\", contingency_table)"
   ]
  },
  {
   "cell_type": "code",
   "execution_count": 43,
   "id": "86fcb5ab-5bc1-4138-9f07-6206e902ff4b",
   "metadata": {},
   "outputs": [],
   "source": [
    "# Perform Chi-square test\n",
    "chi2_stat, p_value, dof, expected = chi2_contingency(contingency_table)"
   ]
  },
  {
   "cell_type": "code",
   "execution_count": 44,
   "id": "d117cb3d-0af0-414a-97dc-41795045f158",
   "metadata": {},
   "outputs": [
    {
     "name": "stdout",
     "output_type": "stream",
     "text": [
      "Chi-square Statistic: 0.0\n",
      "p-value: 1.0\n",
      "Degrees of Freedom: 1\n",
      "Expected Frequencies:\n",
      " [[2. 2.]\n",
      " [2. 2.]]\n"
     ]
    }
   ],
   "source": [
    "# Display results\n",
    "print(\"Chi-square Statistic:\", chi2_stat)\n",
    "print(\"p-value:\", p_value)\n",
    "print(\"Degrees of Freedom:\", dof)\n",
    "print(\"Expected Frequencies:\\n\", expected)"
   ]
  },
  {
   "cell_type": "code",
   "execution_count": 45,
   "id": "bbb99942-4362-4780-a064-a6aec88f27e1",
   "metadata": {},
   "outputs": [
    {
     "name": "stdout",
     "output_type": "stream",
     "text": [
      "Fail to Reject the Null Hypothesis: No significant difference in male vs female percentage across days of the week.\n"
     ]
    }
   ],
   "source": [
    "# Interpretation\n",
    "alpha = 0.05\n",
    "if p_value < alpha:\n",
    "    print(\"Reject the Null Hypothesis: The percentage of males vs females varies based on the day of the week.\")\n",
    "else:\n",
    "    print(\"Fail to Reject the Null Hypothesis: No significant difference in male vs female percentage across days of the week.\")"
   ]
  },
  {
   "cell_type": "markdown",
   "id": "eeec3f7b-c165-4c67-858d-566f503ac843",
   "metadata": {},
   "source": [
    "# 4.Result - Business Impact"
   ]
  },
  {
   "cell_type": "markdown",
   "id": "0ed08de8-ed8b-4975-816e-83ed528c9713",
   "metadata": {},
   "source": [
    "If p-value < 0.05 (Significant Difference Found):\n",
    "\n",
    "Targeted Marketing: Design gender-specific promotions for different days.\n",
    "\n",
    "Optimized Staffing: Adjust staff based on gender traffic patterns.\n",
    "\n",
    "If p-value ≥ 0.05 (No Significant Difference Found):\n",
    "\n",
    "Uniform Strategy: Implement consistent marketing and staffing across all days."
   ]
  },
  {
   "cell_type": "code",
   "execution_count": null,
   "id": "e53fde17-91dd-463e-9c0c-728bfe5931ba",
   "metadata": {},
   "outputs": [],
   "source": []
  }
 ],
 "metadata": {
  "kernelspec": {
   "display_name": "Python 3 (ipykernel)",
   "language": "python",
   "name": "python3"
  },
  "language_info": {
   "codemirror_mode": {
    "name": "ipython",
    "version": 3
   },
   "file_extension": ".py",
   "mimetype": "text/x-python",
   "name": "python",
   "nbconvert_exporter": "python",
   "pygments_lexer": "ipython3",
   "version": "3.11.4"
  }
 },
 "nbformat": 4,
 "nbformat_minor": 5
}
