{
 "cells": [
  {
   "cell_type": "markdown",
   "id": "ed58a36c-100f-4e70-9aa7-d000ca6066d6",
   "metadata": {},
   "source": [
    "4.)\tTelecall uses 4 centers around the globe to process customer order forms. They audit a certain % of the customer order forms. Any error in order form renders it defective and must be reworked before processing. The manager wants to check whether the defective % varies by center. Please analyze the data at 5% significance level and help the manager draw appropriate inferences"
   ]
  },
  {
   "cell_type": "markdown",
   "id": "030e0f9a-1f4a-4bbd-8dde-e822d99269ae",
   "metadata": {},
   "source": [
    "# 1.Business Problem"
   ]
  },
  {
   "cell_type": "markdown",
   "id": "9ab840bc-fd26-450d-8b68-bbb036a85c93",
   "metadata": {},
   "source": [
    "### 1.1 Objective\n",
    "To determine whether the defective percentage of customer order forms varies across the four telecall centers globally.\n"
   ]
  },
  {
   "cell_type": "markdown",
   "id": "c9ee07b0-4398-422e-9669-8785b1e29901",
   "metadata": {},
   "source": [
    "### 1.2 Constraints\n",
    "Ensure data accuracy and consistency\n",
    "\n",
    "Analyze at a 5% significance level (α = 0.05)\n",
    "\n",
    "Handle missing or inconsistent data appropriately\n",
    "\n",
    "Ensure interpretability of statistical results"
   ]
  },
  {
   "cell_type": "code",
   "execution_count": 1,
   "id": "79d3424f-6727-43b7-ba96-6d6482c79352",
   "metadata": {},
   "outputs": [],
   "source": [
    "# Import necessary libraries\n",
    "import pandas as pd\n",
    "from scipy.stats import chi2_contingency\n"
   ]
  },
  {
   "cell_type": "code",
   "execution_count": 4,
   "id": "67c23aca-7469-4350-8660-ad4efb137be5",
   "metadata": {},
   "outputs": [
    {
     "data": {
      "text/html": [
       "<div>\n",
       "<style scoped>\n",
       "    .dataframe tbody tr th:only-of-type {\n",
       "        vertical-align: middle;\n",
       "    }\n",
       "\n",
       "    .dataframe tbody tr th {\n",
       "        vertical-align: top;\n",
       "    }\n",
       "\n",
       "    .dataframe thead th {\n",
       "        text-align: right;\n",
       "    }\n",
       "</style>\n",
       "<table border=\"1\" class=\"dataframe\">\n",
       "  <thead>\n",
       "    <tr style=\"text-align: right;\">\n",
       "      <th></th>\n",
       "      <th>Phillippines</th>\n",
       "      <th>Indonesia</th>\n",
       "      <th>Malta</th>\n",
       "      <th>India</th>\n",
       "    </tr>\n",
       "  </thead>\n",
       "  <tbody>\n",
       "    <tr>\n",
       "      <th>0</th>\n",
       "      <td>Error Free</td>\n",
       "      <td>Error Free</td>\n",
       "      <td>Defective</td>\n",
       "      <td>Error Free</td>\n",
       "    </tr>\n",
       "    <tr>\n",
       "      <th>1</th>\n",
       "      <td>Error Free</td>\n",
       "      <td>Error Free</td>\n",
       "      <td>Error Free</td>\n",
       "      <td>Defective</td>\n",
       "    </tr>\n",
       "    <tr>\n",
       "      <th>2</th>\n",
       "      <td>Error Free</td>\n",
       "      <td>Defective</td>\n",
       "      <td>Defective</td>\n",
       "      <td>Error Free</td>\n",
       "    </tr>\n",
       "    <tr>\n",
       "      <th>3</th>\n",
       "      <td>Error Free</td>\n",
       "      <td>Error Free</td>\n",
       "      <td>Error Free</td>\n",
       "      <td>Error Free</td>\n",
       "    </tr>\n",
       "    <tr>\n",
       "      <th>4</th>\n",
       "      <td>Error Free</td>\n",
       "      <td>Error Free</td>\n",
       "      <td>Defective</td>\n",
       "      <td>Error Free</td>\n",
       "    </tr>\n",
       "    <tr>\n",
       "      <th>...</th>\n",
       "      <td>...</td>\n",
       "      <td>...</td>\n",
       "      <td>...</td>\n",
       "      <td>...</td>\n",
       "    </tr>\n",
       "    <tr>\n",
       "      <th>310</th>\n",
       "      <td>NaN</td>\n",
       "      <td>NaN</td>\n",
       "      <td>NaN</td>\n",
       "      <td>NaN</td>\n",
       "    </tr>\n",
       "    <tr>\n",
       "      <th>311</th>\n",
       "      <td>NaN</td>\n",
       "      <td>NaN</td>\n",
       "      <td>NaN</td>\n",
       "      <td>NaN</td>\n",
       "    </tr>\n",
       "    <tr>\n",
       "      <th>312</th>\n",
       "      <td>NaN</td>\n",
       "      <td>NaN</td>\n",
       "      <td>NaN</td>\n",
       "      <td>NaN</td>\n",
       "    </tr>\n",
       "    <tr>\n",
       "      <th>313</th>\n",
       "      <td>NaN</td>\n",
       "      <td>NaN</td>\n",
       "      <td>NaN</td>\n",
       "      <td>NaN</td>\n",
       "    </tr>\n",
       "    <tr>\n",
       "      <th>314</th>\n",
       "      <td>NaN</td>\n",
       "      <td>NaN</td>\n",
       "      <td>NaN</td>\n",
       "      <td>NaN</td>\n",
       "    </tr>\n",
       "  </tbody>\n",
       "</table>\n",
       "<p>315 rows × 4 columns</p>\n",
       "</div>"
      ],
      "text/plain": [
       "    Phillippines   Indonesia       Malta       India\n",
       "0     Error Free  Error Free   Defective  Error Free\n",
       "1     Error Free  Error Free  Error Free   Defective\n",
       "2     Error Free   Defective   Defective  Error Free\n",
       "3     Error Free  Error Free  Error Free  Error Free\n",
       "4     Error Free  Error Free   Defective  Error Free\n",
       "..           ...         ...         ...         ...\n",
       "310          NaN         NaN         NaN         NaN\n",
       "311          NaN         NaN         NaN         NaN\n",
       "312          NaN         NaN         NaN         NaN\n",
       "313          NaN         NaN         NaN         NaN\n",
       "314          NaN         NaN         NaN         NaN\n",
       "\n",
       "[315 rows x 4 columns]"
      ]
     },
     "execution_count": 4,
     "metadata": {},
     "output_type": "execute_result"
    }
   ],
   "source": [
    "#Load the Dataset\n",
    "CustomerOrderform = pd.read_csv(\"CustomerOrderform.csv\")\n",
    "CustomerOrderform"
   ]
  },
  {
   "cell_type": "markdown",
   "id": "6519e74a-c201-4439-ad5e-d8a2a2781fc4",
   "metadata": {},
   "source": [
    "# 2. Data Pre-processing\n",
    "\n"
   ]
  },
  {
   "cell_type": "code",
   "execution_count": 5,
   "id": "0f6ca6fd-41a0-4fa4-b4a7-c86507a4eb7f",
   "metadata": {},
   "outputs": [
    {
     "data": {
      "text/html": [
       "<div>\n",
       "<style scoped>\n",
       "    .dataframe tbody tr th:only-of-type {\n",
       "        vertical-align: middle;\n",
       "    }\n",
       "\n",
       "    .dataframe tbody tr th {\n",
       "        vertical-align: top;\n",
       "    }\n",
       "\n",
       "    .dataframe thead th {\n",
       "        text-align: right;\n",
       "    }\n",
       "</style>\n",
       "<table border=\"1\" class=\"dataframe\">\n",
       "  <thead>\n",
       "    <tr style=\"text-align: right;\">\n",
       "      <th></th>\n",
       "      <th>Phillippines</th>\n",
       "      <th>Indonesia</th>\n",
       "      <th>Malta</th>\n",
       "      <th>India</th>\n",
       "    </tr>\n",
       "  </thead>\n",
       "  <tbody>\n",
       "    <tr>\n",
       "      <th>0</th>\n",
       "      <td>Error Free</td>\n",
       "      <td>Error Free</td>\n",
       "      <td>Defective</td>\n",
       "      <td>Error Free</td>\n",
       "    </tr>\n",
       "    <tr>\n",
       "      <th>1</th>\n",
       "      <td>Error Free</td>\n",
       "      <td>Error Free</td>\n",
       "      <td>Error Free</td>\n",
       "      <td>Defective</td>\n",
       "    </tr>\n",
       "    <tr>\n",
       "      <th>2</th>\n",
       "      <td>Error Free</td>\n",
       "      <td>Defective</td>\n",
       "      <td>Defective</td>\n",
       "      <td>Error Free</td>\n",
       "    </tr>\n",
       "    <tr>\n",
       "      <th>3</th>\n",
       "      <td>Error Free</td>\n",
       "      <td>Error Free</td>\n",
       "      <td>Error Free</td>\n",
       "      <td>Error Free</td>\n",
       "    </tr>\n",
       "    <tr>\n",
       "      <th>4</th>\n",
       "      <td>Error Free</td>\n",
       "      <td>Error Free</td>\n",
       "      <td>Defective</td>\n",
       "      <td>Error Free</td>\n",
       "    </tr>\n",
       "  </tbody>\n",
       "</table>\n",
       "</div>"
      ],
      "text/plain": [
       "  Phillippines   Indonesia       Malta       India\n",
       "0   Error Free  Error Free   Defective  Error Free\n",
       "1   Error Free  Error Free  Error Free   Defective\n",
       "2   Error Free   Defective   Defective  Error Free\n",
       "3   Error Free  Error Free  Error Free  Error Free\n",
       "4   Error Free  Error Free   Defective  Error Free"
      ]
     },
     "execution_count": 5,
     "metadata": {},
     "output_type": "execute_result"
    }
   ],
   "source": [
    "# Display basic information about the dataset\n",
    "CustomerOrderform.head()"
   ]
  },
  {
   "cell_type": "code",
   "execution_count": 6,
   "id": "2819a60e-43e9-4230-83f3-e4b6b6c2d779",
   "metadata": {},
   "outputs": [
    {
     "name": "stdout",
     "output_type": "stream",
     "text": [
      "<class 'pandas.core.frame.DataFrame'>\n",
      "RangeIndex: 315 entries, 0 to 314\n",
      "Data columns (total 4 columns):\n",
      " #   Column        Non-Null Count  Dtype \n",
      "---  ------        --------------  ----- \n",
      " 0   Phillippines  300 non-null    object\n",
      " 1   Indonesia     300 non-null    object\n",
      " 2   Malta         300 non-null    object\n",
      " 3   India         300 non-null    object\n",
      "dtypes: object(4)\n",
      "memory usage: 10.0+ KB\n"
     ]
    }
   ],
   "source": [
    "CustomerOrderform.info()"
   ]
  },
  {
   "cell_type": "code",
   "execution_count": 8,
   "id": "0a016e93-a354-4738-a39c-cea5079fdb0a",
   "metadata": {},
   "outputs": [
    {
     "data": {
      "text/plain": [
       "Phillippines    15\n",
       "Indonesia       15\n",
       "Malta           15\n",
       "India           15\n",
       "dtype: int64"
      ]
     },
     "execution_count": 8,
     "metadata": {},
     "output_type": "execute_result"
    }
   ],
   "source": [
    "# Check for missing values\n",
    "CustomerOrderform.isnull().sum()\n"
   ]
  },
  {
   "cell_type": "code",
   "execution_count": 11,
   "id": "69015813-597d-433a-a225-adf9cfe18690",
   "metadata": {},
   "outputs": [
    {
     "data": {
      "text/plain": [
       "Phillippines    object\n",
       "Indonesia       object\n",
       "Malta           object\n",
       "India           object\n",
       "dtype: object"
      ]
     },
     "execution_count": 11,
     "metadata": {},
     "output_type": "execute_result"
    }
   ],
   "source": [
    "# Ensure correct data types\n",
    "CustomerOrderform.dtypes"
   ]
  },
  {
   "cell_type": "code",
   "execution_count": 12,
   "id": "61075d6f-2321-42f8-ac35-7db0444335f8",
   "metadata": {},
   "outputs": [
    {
     "data": {
      "text/plain": [
       "{'Phillippines': array(['Error Free', 'Defective', nan], dtype=object),\n",
       " 'Indonesia': array(['Error Free', 'Defective', nan], dtype=object),\n",
       " 'Malta': array(['Defective', 'Error Free', nan], dtype=object),\n",
       " 'India': array(['Error Free', 'Defective', nan], dtype=object)}"
      ]
     },
     "execution_count": 12,
     "metadata": {},
     "output_type": "execute_result"
    }
   ],
   "source": [
    "# Validate data consistency\n",
    "{col: CustomerOrderform[col].unique() for col in CustomerOrderform.columns}"
   ]
  },
  {
   "cell_type": "code",
   "execution_count": 13,
   "id": "fb0bd723-1d47-44ff-b016-9154b1db9269",
   "metadata": {},
   "outputs": [],
   "source": [
    "# Handle missing values (if any)\n",
    "if CustomerOrderform.isnull().sum().sum() > 0:\n",
    "    CustomerOrderform.fillna('Unknown', inplace=True)"
   ]
  },
  {
   "cell_type": "code",
   "execution_count": 16,
   "id": "53bf935a-38fa-424b-81dd-a497b427a190",
   "metadata": {},
   "outputs": [
    {
     "data": {
      "text/plain": [
       "Phillippines    0\n",
       "Indonesia       0\n",
       "Malta           0\n",
       "India           0\n",
       "dtype: int64"
      ]
     },
     "execution_count": 16,
     "metadata": {},
     "output_type": "execute_result"
    }
   ],
   "source": [
    "# Verify no missing values remain\n",
    "CustomerOrderform.isnull().sum()"
   ]
  },
  {
   "cell_type": "code",
   "execution_count": 17,
   "id": "a50a6008-fcaf-4c70-aabe-61015e2c4ee3",
   "metadata": {},
   "outputs": [
    {
     "data": {
      "text/plain": [
       "304"
      ]
     },
     "execution_count": 17,
     "metadata": {},
     "output_type": "execute_result"
    }
   ],
   "source": [
    "# Check for duplicate rows\n",
    "CustomerOrderform.duplicated().sum()\n"
   ]
  },
  {
   "cell_type": "code",
   "execution_count": 18,
   "id": "9b323c9f-0c76-4fef-9079-ea933d110e86",
   "metadata": {},
   "outputs": [],
   "source": [
    "# Drop duplicate rows if found\n",
    "CustomerOrderform.drop_duplicates(inplace=True)"
   ]
  },
  {
   "cell_type": "code",
   "execution_count": 19,
   "id": "c11d467a-4ae7-422c-ac1e-e3ebde6c4842",
   "metadata": {},
   "outputs": [
    {
     "data": {
      "text/plain": [
       "0"
      ]
     },
     "execution_count": 19,
     "metadata": {},
     "output_type": "execute_result"
    }
   ],
   "source": [
    "## Verify duplicates are removed\n",
    "CustomerOrderform.duplicated().sum()"
   ]
  },
  {
   "cell_type": "code",
   "execution_count": 20,
   "id": "18403317-c9c9-40aa-bb74-3ecfc5a22896",
   "metadata": {},
   "outputs": [],
   "source": [
    "# Ensure column names are standardized\n",
    "CustomerOrderform.columns = [col.strip().lower().replace(\" \", \"_\") for col in CustomerOrderform.columns]"
   ]
  },
  {
   "cell_type": "code",
   "execution_count": 21,
   "id": "4de458f7-39bb-40da-8325-caf9a3af873e",
   "metadata": {},
   "outputs": [
    {
     "name": "stdout",
     "output_type": "stream",
     "text": [
      "Cleaned Data Head:\n",
      "   phillippines   indonesia       malta       india\n",
      "0   Error Free  Error Free   Defective  Error Free\n",
      "1   Error Free  Error Free  Error Free   Defective\n",
      "2   Error Free   Defective   Defective  Error Free\n",
      "3   Error Free  Error Free  Error Free  Error Free\n",
      "6   Error Free   Defective  Error Free  Error Free\n"
     ]
    }
   ],
   "source": [
    "# Verify data after cleaning\n",
    "print(\"Cleaned Data Head:\\n\", CustomerOrderform.head())"
   ]
  },
  {
   "cell_type": "code",
   "execution_count": 22,
   "id": "a9aa3e89-bd2f-42e6-a7a7-805f7da7ef12",
   "metadata": {},
   "outputs": [],
   "source": [
    "# Convert defect status to numeric values (1 for defective, 0 for not defective)\n",
    "def map_defects(value):\n",
    "    return 1 if value.strip().lower() == 'defective' else 0\n",
    "\n",
    "CustomerOrderform = CustomerOrderform.applymap(map_defects)\n"
   ]
  },
  {
   "cell_type": "code",
   "execution_count": 24,
   "id": "423ea8a4-4d37-455d-a434-8f96d766d68a",
   "metadata": {},
   "outputs": [
    {
     "data": {
      "text/html": [
       "<div>\n",
       "<style scoped>\n",
       "    .dataframe tbody tr th:only-of-type {\n",
       "        vertical-align: middle;\n",
       "    }\n",
       "\n",
       "    .dataframe tbody tr th {\n",
       "        vertical-align: top;\n",
       "    }\n",
       "\n",
       "    .dataframe thead th {\n",
       "        text-align: right;\n",
       "    }\n",
       "</style>\n",
       "<table border=\"1\" class=\"dataframe\">\n",
       "  <thead>\n",
       "    <tr style=\"text-align: right;\">\n",
       "      <th></th>\n",
       "      <th>phillippines</th>\n",
       "      <th>indonesia</th>\n",
       "      <th>malta</th>\n",
       "      <th>india</th>\n",
       "    </tr>\n",
       "  </thead>\n",
       "  <tbody>\n",
       "    <tr>\n",
       "      <th>0</th>\n",
       "      <td>0</td>\n",
       "      <td>0</td>\n",
       "      <td>1</td>\n",
       "      <td>0</td>\n",
       "    </tr>\n",
       "    <tr>\n",
       "      <th>1</th>\n",
       "      <td>0</td>\n",
       "      <td>0</td>\n",
       "      <td>0</td>\n",
       "      <td>1</td>\n",
       "    </tr>\n",
       "    <tr>\n",
       "      <th>2</th>\n",
       "      <td>0</td>\n",
       "      <td>1</td>\n",
       "      <td>1</td>\n",
       "      <td>0</td>\n",
       "    </tr>\n",
       "    <tr>\n",
       "      <th>3</th>\n",
       "      <td>0</td>\n",
       "      <td>0</td>\n",
       "      <td>0</td>\n",
       "      <td>0</td>\n",
       "    </tr>\n",
       "    <tr>\n",
       "      <th>6</th>\n",
       "      <td>0</td>\n",
       "      <td>1</td>\n",
       "      <td>0</td>\n",
       "      <td>0</td>\n",
       "    </tr>\n",
       "  </tbody>\n",
       "</table>\n",
       "</div>"
      ],
      "text/plain": [
       "   phillippines  indonesia  malta  india\n",
       "0             0          0      1      0\n",
       "1             0          0      0      1\n",
       "2             0          1      1      0\n",
       "3             0          0      0      0\n",
       "6             0          1      0      0"
      ]
     },
     "execution_count": 24,
     "metadata": {},
     "output_type": "execute_result"
    }
   ],
   "source": [
    "# Verify conversion\n",
    "CustomerOrderform.head()"
   ]
  },
  {
   "cell_type": "code",
   "execution_count": 25,
   "id": "371a6637-8ae6-44d4-88d3-c8b78012e9cc",
   "metadata": {},
   "outputs": [
    {
     "name": "stdout",
     "output_type": "stream",
     "text": [
      "Unique Values After Conversion:\n",
      " {'phillippines': array([0, 1], dtype=int64), 'indonesia': array([0, 1], dtype=int64), 'malta': array([1, 0], dtype=int64), 'india': array([0, 1], dtype=int64)}\n"
     ]
    }
   ],
   "source": [
    "print(\"Unique Values After Conversion:\\n\", {col: CustomerOrderform[col].unique() for col in CustomerOrderform.columns})"
   ]
  },
  {
   "cell_type": "markdown",
   "id": "7f50283a-5838-4641-a07e-3cb61fbcdbdb",
   "metadata": {},
   "source": [
    "# 3. Model Building"
   ]
  },
  {
   "cell_type": "code",
   "execution_count": 32,
   "id": "b6444c59-8b00-461c-b611-bc307f0f1192",
   "metadata": {},
   "outputs": [],
   "source": [
    "# 3.1 Partition the dataset\n",
    "# Sum defectives and non-defectives for each center\n",
    "observed = pd.DataFrame({\n",
    "    'Defective': CustomerOrderform.sum(axis=0),\n",
    "    'Non_Defective': CustomerOrderform.shape[0] - CustomerOrderform.sum(axis=0)\n",
    "}).T.values"
   ]
  },
  {
   "cell_type": "code",
   "execution_count": 33,
   "id": "2fa1a254-b146-4915-9ebd-aa8037c50062",
   "metadata": {},
   "outputs": [],
   "source": [
    "# Ensure no zero rows/columns to prevent chi2_contingency errors\n",
    "observed = observed[:, observed.sum(axis=0) > 0]"
   ]
  },
  {
   "cell_type": "code",
   "execution_count": 27,
   "id": "b7028ea0-fbed-4ea5-944c-8f4ab8a541a2",
   "metadata": {},
   "outputs": [],
   "source": [
    "# 3.2 Model(s) - Chi-square test chosen for categorical data comparison"
   ]
  },
  {
   "cell_type": "code",
   "execution_count": 34,
   "id": "1afd87bb-a53e-4d2c-8895-1a4a3dfc79e0",
   "metadata": {},
   "outputs": [],
   "source": [
    "# Perform the chi-square test\n",
    "chi2_stat, p_value, dof, expected = chi2_contingency(observed)"
   ]
  },
  {
   "cell_type": "code",
   "execution_count": 35,
   "id": "78577999-0f14-413f-8ec6-9626d89dad8e",
   "metadata": {},
   "outputs": [
    {
     "name": "stdout",
     "output_type": "stream",
     "text": [
      "Chi-square Statistic: 0.419047619047619\n",
      "p-value: 0.9362801961345747\n",
      "Degrees of Freedom: 3\n",
      "Expected Frequencies:\n",
      "[[3.5 3.5 3.5 3.5]\n",
      " [7.5 7.5 7.5 7.5]]\n"
     ]
    }
   ],
   "source": [
    "# 3.4 Model Evaluation\n",
    "# Display results\n",
    "print(\"Chi-square Statistic:\", chi2_stat)\n",
    "print(\"p-value:\", p_value)\n",
    "print(\"Degrees of Freedom:\", dof)\n",
    "print(\"Expected Frequencies:\")\n",
    "print(expected)"
   ]
  },
  {
   "cell_type": "code",
   "execution_count": 36,
   "id": "7046faed-625a-4c8b-baec-e65ca69a5487",
   "metadata": {},
   "outputs": [
    {
     "name": "stdout",
     "output_type": "stream",
     "text": [
      "Fail to Reject the Null Hypothesis: The defective percentage does NOT vary across centers.\n"
     ]
    }
   ],
   "source": [
    "# Interpretation\n",
    "alpha = 0.05\n",
    "if p_value < alpha:\n",
    "    print(\"Reject the Null Hypothesis: The defective percentage varies across centers.\")\n",
    "else:\n",
    "    print(\"Fail to Reject the Null Hypothesis: The defective percentage does NOT vary across centers.\")"
   ]
  },
  {
   "cell_type": "markdown",
   "id": "afee80a2-7de9-4e72-b5ee-46f9ae176c38",
   "metadata": {},
   "source": [
    "# 4.Result - Business Impact\n",
    "- Provides insights into quality control across different centers\n",
    "- Helps identify centers with higher defect rates for targeted improvement\n",
    "- Assists in optimizing operational efficiency and reducing rework costs"
   ]
  },
  {
   "cell_type": "code",
   "execution_count": null,
   "id": "0abdba85-6e52-454f-9053-095469f893fc",
   "metadata": {},
   "outputs": [],
   "source": []
  },
  {
   "cell_type": "code",
   "execution_count": null,
   "id": "2c42888b-1c22-487e-b917-90324027635a",
   "metadata": {},
   "outputs": [],
   "source": []
  }
 ],
 "metadata": {
  "kernelspec": {
   "display_name": "Python 3 (ipykernel)",
   "language": "python",
   "name": "python3"
  },
  "language_info": {
   "codemirror_mode": {
    "name": "ipython",
    "version": 3
   },
   "file_extension": ".py",
   "mimetype": "text/x-python",
   "name": "python",
   "nbconvert_exporter": "python",
   "pygments_lexer": "ipython3",
   "version": "3.11.4"
  }
 },
 "nbformat": 4,
 "nbformat_minor": 5
}
