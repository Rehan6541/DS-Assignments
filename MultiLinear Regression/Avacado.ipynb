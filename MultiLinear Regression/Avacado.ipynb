{
 "cells": [
  {
   "cell_type": "markdown",
   "id": "0f591236",
   "metadata": {},
   "source": [
    "### Problem Statement:\n",
    "With the growing consumption of avocados in the USA, a freelance company would like to do some analysis on the patterns of consumption in different cities and would like to come up with a prediction model for the price of avocados. For this to be implemented, build a prediction model using multilinear regression and provide your insights on it.\n",
    "\n",
    "### Business Objective:\n",
    "A freelance company wants to analyze avocado consumption patterns in different U.S. cities and build a prediction model for avocado prices. Understanding price trends will help businesses, farmers, and retailers make informed pricing and stocking decisions based on historical data.\n",
    "\n"
   ]
  },
  {
   "cell_type": "markdown",
   "id": "e8dd3bcf",
   "metadata": {},
   "source": [
    "## 1. Import Important Libraries"
   ]
  },
  {
   "cell_type": "code",
   "execution_count": 1,
   "id": "40f57357",
   "metadata": {},
   "outputs": [],
   "source": [
    "import pandas as pd\n",
    "import numpy as np\n",
    "import matplotlib.pyplot as plt\n",
    "import seaborn as sns\n",
    "from sklearn.model_selection import train_test_split\n",
    "from sklearn.linear_model import LinearRegression\n",
    "from sklearn.metrics import mean_absolute_error, mean_squared_error, r2_score"
   ]
  },
  {
   "cell_type": "markdown",
   "id": "e4a49b93",
   "metadata": {},
   "source": [
    "## 2. Load the dataset"
   ]
  },
  {
   "cell_type": "code",
   "execution_count": 22,
   "id": "98c79dfd",
   "metadata": {},
   "outputs": [],
   "source": [
    "df = pd.read_csv(\"C:/Data Science/Assignment Data/Multilinear_Dataset/Avacado_Price.csv\")"
   ]
  },
  {
   "cell_type": "code",
   "execution_count": 23,
   "id": "dfaa59b2",
   "metadata": {},
   "outputs": [
    {
     "data": {
      "text/html": [
       "<div>\n",
       "<style scoped>\n",
       "    .dataframe tbody tr th:only-of-type {\n",
       "        vertical-align: middle;\n",
       "    }\n",
       "\n",
       "    .dataframe tbody tr th {\n",
       "        vertical-align: top;\n",
       "    }\n",
       "\n",
       "    .dataframe thead th {\n",
       "        text-align: right;\n",
       "    }\n",
       "</style>\n",
       "<table border=\"1\" class=\"dataframe\">\n",
       "  <thead>\n",
       "    <tr style=\"text-align: right;\">\n",
       "      <th></th>\n",
       "      <th>AveragePrice</th>\n",
       "      <th>Total_Volume</th>\n",
       "      <th>tot_ava1</th>\n",
       "      <th>tot_ava2</th>\n",
       "      <th>tot_ava3</th>\n",
       "      <th>Total_Bags</th>\n",
       "      <th>Small_Bags</th>\n",
       "      <th>Large_Bags</th>\n",
       "      <th>XLarge Bags</th>\n",
       "      <th>type</th>\n",
       "      <th>year</th>\n",
       "      <th>region</th>\n",
       "    </tr>\n",
       "  </thead>\n",
       "  <tbody>\n",
       "    <tr>\n",
       "      <th>0</th>\n",
       "      <td>1.33</td>\n",
       "      <td>64236.62</td>\n",
       "      <td>1036.74</td>\n",
       "      <td>54454.85</td>\n",
       "      <td>48.16</td>\n",
       "      <td>8696.87</td>\n",
       "      <td>8603.62</td>\n",
       "      <td>93.25</td>\n",
       "      <td>0.0</td>\n",
       "      <td>conventional</td>\n",
       "      <td>2015</td>\n",
       "      <td>Albany</td>\n",
       "    </tr>\n",
       "    <tr>\n",
       "      <th>1</th>\n",
       "      <td>1.35</td>\n",
       "      <td>54876.98</td>\n",
       "      <td>674.28</td>\n",
       "      <td>44638.81</td>\n",
       "      <td>58.33</td>\n",
       "      <td>9505.56</td>\n",
       "      <td>9408.07</td>\n",
       "      <td>97.49</td>\n",
       "      <td>0.0</td>\n",
       "      <td>conventional</td>\n",
       "      <td>2015</td>\n",
       "      <td>Albany</td>\n",
       "    </tr>\n",
       "    <tr>\n",
       "      <th>2</th>\n",
       "      <td>0.93</td>\n",
       "      <td>118220.22</td>\n",
       "      <td>794.70</td>\n",
       "      <td>109149.67</td>\n",
       "      <td>130.50</td>\n",
       "      <td>8145.35</td>\n",
       "      <td>8042.21</td>\n",
       "      <td>103.14</td>\n",
       "      <td>0.0</td>\n",
       "      <td>conventional</td>\n",
       "      <td>2015</td>\n",
       "      <td>Albany</td>\n",
       "    </tr>\n",
       "    <tr>\n",
       "      <th>3</th>\n",
       "      <td>1.08</td>\n",
       "      <td>78992.15</td>\n",
       "      <td>1132.00</td>\n",
       "      <td>71976.41</td>\n",
       "      <td>72.58</td>\n",
       "      <td>5811.16</td>\n",
       "      <td>5677.40</td>\n",
       "      <td>133.76</td>\n",
       "      <td>0.0</td>\n",
       "      <td>conventional</td>\n",
       "      <td>2015</td>\n",
       "      <td>Albany</td>\n",
       "    </tr>\n",
       "    <tr>\n",
       "      <th>4</th>\n",
       "      <td>1.28</td>\n",
       "      <td>51039.60</td>\n",
       "      <td>941.48</td>\n",
       "      <td>43838.39</td>\n",
       "      <td>75.78</td>\n",
       "      <td>6183.95</td>\n",
       "      <td>5986.26</td>\n",
       "      <td>197.69</td>\n",
       "      <td>0.0</td>\n",
       "      <td>conventional</td>\n",
       "      <td>2015</td>\n",
       "      <td>Albany</td>\n",
       "    </tr>\n",
       "    <tr>\n",
       "      <th>...</th>\n",
       "      <td>...</td>\n",
       "      <td>...</td>\n",
       "      <td>...</td>\n",
       "      <td>...</td>\n",
       "      <td>...</td>\n",
       "      <td>...</td>\n",
       "      <td>...</td>\n",
       "      <td>...</td>\n",
       "      <td>...</td>\n",
       "      <td>...</td>\n",
       "      <td>...</td>\n",
       "      <td>...</td>\n",
       "    </tr>\n",
       "    <tr>\n",
       "      <th>18244</th>\n",
       "      <td>1.63</td>\n",
       "      <td>17074.83</td>\n",
       "      <td>2046.96</td>\n",
       "      <td>1529.20</td>\n",
       "      <td>0.00</td>\n",
       "      <td>13498.67</td>\n",
       "      <td>13066.82</td>\n",
       "      <td>431.85</td>\n",
       "      <td>0.0</td>\n",
       "      <td>organic</td>\n",
       "      <td>2018</td>\n",
       "      <td>WestTexNewMexico</td>\n",
       "    </tr>\n",
       "    <tr>\n",
       "      <th>18245</th>\n",
       "      <td>1.71</td>\n",
       "      <td>13888.04</td>\n",
       "      <td>1191.70</td>\n",
       "      <td>3431.50</td>\n",
       "      <td>0.00</td>\n",
       "      <td>9264.84</td>\n",
       "      <td>8940.04</td>\n",
       "      <td>324.80</td>\n",
       "      <td>0.0</td>\n",
       "      <td>organic</td>\n",
       "      <td>2018</td>\n",
       "      <td>WestTexNewMexico</td>\n",
       "    </tr>\n",
       "    <tr>\n",
       "      <th>18246</th>\n",
       "      <td>1.87</td>\n",
       "      <td>13766.76</td>\n",
       "      <td>1191.92</td>\n",
       "      <td>2452.79</td>\n",
       "      <td>727.94</td>\n",
       "      <td>9394.11</td>\n",
       "      <td>9351.80</td>\n",
       "      <td>42.31</td>\n",
       "      <td>0.0</td>\n",
       "      <td>organic</td>\n",
       "      <td>2018</td>\n",
       "      <td>WestTexNewMexico</td>\n",
       "    </tr>\n",
       "    <tr>\n",
       "      <th>18247</th>\n",
       "      <td>1.93</td>\n",
       "      <td>16205.22</td>\n",
       "      <td>1527.63</td>\n",
       "      <td>2981.04</td>\n",
       "      <td>727.01</td>\n",
       "      <td>10969.54</td>\n",
       "      <td>10919.54</td>\n",
       "      <td>50.00</td>\n",
       "      <td>0.0</td>\n",
       "      <td>organic</td>\n",
       "      <td>2018</td>\n",
       "      <td>WestTexNewMexico</td>\n",
       "    </tr>\n",
       "    <tr>\n",
       "      <th>18248</th>\n",
       "      <td>1.62</td>\n",
       "      <td>17489.58</td>\n",
       "      <td>2894.77</td>\n",
       "      <td>2356.13</td>\n",
       "      <td>224.53</td>\n",
       "      <td>12014.15</td>\n",
       "      <td>11988.14</td>\n",
       "      <td>26.01</td>\n",
       "      <td>0.0</td>\n",
       "      <td>organic</td>\n",
       "      <td>2018</td>\n",
       "      <td>WestTexNewMexico</td>\n",
       "    </tr>\n",
       "  </tbody>\n",
       "</table>\n",
       "<p>18249 rows × 12 columns</p>\n",
       "</div>"
      ],
      "text/plain": [
       "       AveragePrice  Total_Volume  tot_ava1   tot_ava2  tot_ava3  Total_Bags  \\\n",
       "0              1.33      64236.62   1036.74   54454.85     48.16     8696.87   \n",
       "1              1.35      54876.98    674.28   44638.81     58.33     9505.56   \n",
       "2              0.93     118220.22    794.70  109149.67    130.50     8145.35   \n",
       "3              1.08      78992.15   1132.00   71976.41     72.58     5811.16   \n",
       "4              1.28      51039.60    941.48   43838.39     75.78     6183.95   \n",
       "...             ...           ...       ...        ...       ...         ...   \n",
       "18244          1.63      17074.83   2046.96    1529.20      0.00    13498.67   \n",
       "18245          1.71      13888.04   1191.70    3431.50      0.00     9264.84   \n",
       "18246          1.87      13766.76   1191.92    2452.79    727.94     9394.11   \n",
       "18247          1.93      16205.22   1527.63    2981.04    727.01    10969.54   \n",
       "18248          1.62      17489.58   2894.77    2356.13    224.53    12014.15   \n",
       "\n",
       "       Small_Bags  Large_Bags  XLarge Bags          type  year  \\\n",
       "0         8603.62       93.25          0.0  conventional  2015   \n",
       "1         9408.07       97.49          0.0  conventional  2015   \n",
       "2         8042.21      103.14          0.0  conventional  2015   \n",
       "3         5677.40      133.76          0.0  conventional  2015   \n",
       "4         5986.26      197.69          0.0  conventional  2015   \n",
       "...           ...         ...          ...           ...   ...   \n",
       "18244    13066.82      431.85          0.0       organic  2018   \n",
       "18245     8940.04      324.80          0.0       organic  2018   \n",
       "18246     9351.80       42.31          0.0       organic  2018   \n",
       "18247    10919.54       50.00          0.0       organic  2018   \n",
       "18248    11988.14       26.01          0.0       organic  2018   \n",
       "\n",
       "                 region  \n",
       "0                Albany  \n",
       "1                Albany  \n",
       "2                Albany  \n",
       "3                Albany  \n",
       "4                Albany  \n",
       "...                 ...  \n",
       "18244  WestTexNewMexico  \n",
       "18245  WestTexNewMexico  \n",
       "18246  WestTexNewMexico  \n",
       "18247  WestTexNewMexico  \n",
       "18248  WestTexNewMexico  \n",
       "\n",
       "[18249 rows x 12 columns]"
      ]
     },
     "execution_count": 23,
     "metadata": {},
     "output_type": "execute_result"
    }
   ],
   "source": [
    "df"
   ]
  },
  {
   "cell_type": "code",
   "execution_count": 4,
   "id": "6d54ffe8",
   "metadata": {},
   "outputs": [
    {
     "name": "stdout",
     "output_type": "stream",
     "text": [
      "<class 'pandas.core.frame.DataFrame'>\n",
      "RangeIndex: 18249 entries, 0 to 18248\n",
      "Data columns (total 12 columns):\n",
      " #   Column        Non-Null Count  Dtype  \n",
      "---  ------        --------------  -----  \n",
      " 0   AveragePrice  18249 non-null  float64\n",
      " 1   Total_Volume  18249 non-null  float64\n",
      " 2   tot_ava1      18249 non-null  float64\n",
      " 3   tot_ava2      18249 non-null  float64\n",
      " 4   tot_ava3      18249 non-null  float64\n",
      " 5   Total_Bags    18249 non-null  float64\n",
      " 6   Small_Bags    18249 non-null  float64\n",
      " 7   Large_Bags    18249 non-null  float64\n",
      " 8   XLarge Bags   18249 non-null  float64\n",
      " 9   type          18249 non-null  object \n",
      " 10  year          18249 non-null  int64  \n",
      " 11  region        18249 non-null  object \n",
      "dtypes: float64(9), int64(1), object(2)\n",
      "memory usage: 1.7+ MB\n"
     ]
    }
   ],
   "source": [
    "df.info()"
   ]
  },
  {
   "cell_type": "code",
   "execution_count": 5,
   "id": "fafeb2db",
   "metadata": {},
   "outputs": [
    {
     "data": {
      "text/html": [
       "<div>\n",
       "<style scoped>\n",
       "    .dataframe tbody tr th:only-of-type {\n",
       "        vertical-align: middle;\n",
       "    }\n",
       "\n",
       "    .dataframe tbody tr th {\n",
       "        vertical-align: top;\n",
       "    }\n",
       "\n",
       "    .dataframe thead th {\n",
       "        text-align: right;\n",
       "    }\n",
       "</style>\n",
       "<table border=\"1\" class=\"dataframe\">\n",
       "  <thead>\n",
       "    <tr style=\"text-align: right;\">\n",
       "      <th></th>\n",
       "      <th>AveragePrice</th>\n",
       "      <th>Total_Volume</th>\n",
       "      <th>tot_ava1</th>\n",
       "      <th>tot_ava2</th>\n",
       "      <th>tot_ava3</th>\n",
       "      <th>Total_Bags</th>\n",
       "      <th>Small_Bags</th>\n",
       "      <th>Large_Bags</th>\n",
       "      <th>XLarge Bags</th>\n",
       "      <th>year</th>\n",
       "    </tr>\n",
       "  </thead>\n",
       "  <tbody>\n",
       "    <tr>\n",
       "      <th>count</th>\n",
       "      <td>18249.000000</td>\n",
       "      <td>1.824900e+04</td>\n",
       "      <td>1.824900e+04</td>\n",
       "      <td>1.824900e+04</td>\n",
       "      <td>1.824900e+04</td>\n",
       "      <td>1.824900e+04</td>\n",
       "      <td>1.824900e+04</td>\n",
       "      <td>1.824900e+04</td>\n",
       "      <td>18249.000000</td>\n",
       "      <td>18249.000000</td>\n",
       "    </tr>\n",
       "    <tr>\n",
       "      <th>mean</th>\n",
       "      <td>1.405978</td>\n",
       "      <td>8.506440e+05</td>\n",
       "      <td>2.930084e+05</td>\n",
       "      <td>2.951546e+05</td>\n",
       "      <td>2.283974e+04</td>\n",
       "      <td>2.396392e+05</td>\n",
       "      <td>1.821947e+05</td>\n",
       "      <td>5.433809e+04</td>\n",
       "      <td>3106.426507</td>\n",
       "      <td>2016.147899</td>\n",
       "    </tr>\n",
       "    <tr>\n",
       "      <th>std</th>\n",
       "      <td>0.402677</td>\n",
       "      <td>3.453545e+06</td>\n",
       "      <td>1.264989e+06</td>\n",
       "      <td>1.204120e+06</td>\n",
       "      <td>1.074641e+05</td>\n",
       "      <td>9.862424e+05</td>\n",
       "      <td>7.461785e+05</td>\n",
       "      <td>2.439660e+05</td>\n",
       "      <td>17692.894652</td>\n",
       "      <td>0.939938</td>\n",
       "    </tr>\n",
       "    <tr>\n",
       "      <th>min</th>\n",
       "      <td>0.440000</td>\n",
       "      <td>8.456000e+01</td>\n",
       "      <td>0.000000e+00</td>\n",
       "      <td>0.000000e+00</td>\n",
       "      <td>0.000000e+00</td>\n",
       "      <td>0.000000e+00</td>\n",
       "      <td>0.000000e+00</td>\n",
       "      <td>0.000000e+00</td>\n",
       "      <td>0.000000</td>\n",
       "      <td>2015.000000</td>\n",
       "    </tr>\n",
       "    <tr>\n",
       "      <th>25%</th>\n",
       "      <td>1.100000</td>\n",
       "      <td>1.083858e+04</td>\n",
       "      <td>8.540700e+02</td>\n",
       "      <td>3.008780e+03</td>\n",
       "      <td>0.000000e+00</td>\n",
       "      <td>5.088640e+03</td>\n",
       "      <td>2.849420e+03</td>\n",
       "      <td>1.274700e+02</td>\n",
       "      <td>0.000000</td>\n",
       "      <td>2015.000000</td>\n",
       "    </tr>\n",
       "    <tr>\n",
       "      <th>50%</th>\n",
       "      <td>1.370000</td>\n",
       "      <td>1.073768e+05</td>\n",
       "      <td>8.645300e+03</td>\n",
       "      <td>2.906102e+04</td>\n",
       "      <td>1.849900e+02</td>\n",
       "      <td>3.974383e+04</td>\n",
       "      <td>2.636282e+04</td>\n",
       "      <td>2.647710e+03</td>\n",
       "      <td>0.000000</td>\n",
       "      <td>2016.000000</td>\n",
       "    </tr>\n",
       "    <tr>\n",
       "      <th>75%</th>\n",
       "      <td>1.660000</td>\n",
       "      <td>4.329623e+05</td>\n",
       "      <td>1.110202e+05</td>\n",
       "      <td>1.502069e+05</td>\n",
       "      <td>6.243420e+03</td>\n",
       "      <td>1.107834e+05</td>\n",
       "      <td>8.333767e+04</td>\n",
       "      <td>2.202925e+04</td>\n",
       "      <td>132.500000</td>\n",
       "      <td>2017.000000</td>\n",
       "    </tr>\n",
       "    <tr>\n",
       "      <th>max</th>\n",
       "      <td>3.250000</td>\n",
       "      <td>6.250565e+07</td>\n",
       "      <td>2.274362e+07</td>\n",
       "      <td>2.047057e+07</td>\n",
       "      <td>2.546439e+06</td>\n",
       "      <td>1.937313e+07</td>\n",
       "      <td>1.338459e+07</td>\n",
       "      <td>5.719097e+06</td>\n",
       "      <td>551693.650000</td>\n",
       "      <td>2018.000000</td>\n",
       "    </tr>\n",
       "  </tbody>\n",
       "</table>\n",
       "</div>"
      ],
      "text/plain": [
       "       AveragePrice  Total_Volume      tot_ava1      tot_ava2      tot_ava3  \\\n",
       "count  18249.000000  1.824900e+04  1.824900e+04  1.824900e+04  1.824900e+04   \n",
       "mean       1.405978  8.506440e+05  2.930084e+05  2.951546e+05  2.283974e+04   \n",
       "std        0.402677  3.453545e+06  1.264989e+06  1.204120e+06  1.074641e+05   \n",
       "min        0.440000  8.456000e+01  0.000000e+00  0.000000e+00  0.000000e+00   \n",
       "25%        1.100000  1.083858e+04  8.540700e+02  3.008780e+03  0.000000e+00   \n",
       "50%        1.370000  1.073768e+05  8.645300e+03  2.906102e+04  1.849900e+02   \n",
       "75%        1.660000  4.329623e+05  1.110202e+05  1.502069e+05  6.243420e+03   \n",
       "max        3.250000  6.250565e+07  2.274362e+07  2.047057e+07  2.546439e+06   \n",
       "\n",
       "         Total_Bags    Small_Bags    Large_Bags    XLarge Bags          year  \n",
       "count  1.824900e+04  1.824900e+04  1.824900e+04   18249.000000  18249.000000  \n",
       "mean   2.396392e+05  1.821947e+05  5.433809e+04    3106.426507   2016.147899  \n",
       "std    9.862424e+05  7.461785e+05  2.439660e+05   17692.894652      0.939938  \n",
       "min    0.000000e+00  0.000000e+00  0.000000e+00       0.000000   2015.000000  \n",
       "25%    5.088640e+03  2.849420e+03  1.274700e+02       0.000000   2015.000000  \n",
       "50%    3.974383e+04  2.636282e+04  2.647710e+03       0.000000   2016.000000  \n",
       "75%    1.107834e+05  8.333767e+04  2.202925e+04     132.500000   2017.000000  \n",
       "max    1.937313e+07  1.338459e+07  5.719097e+06  551693.650000   2018.000000  "
      ]
     },
     "execution_count": 5,
     "metadata": {},
     "output_type": "execute_result"
    }
   ],
   "source": [
    "df.describe()"
   ]
  },
  {
   "cell_type": "code",
   "execution_count": 6,
   "id": "44dd4d4c",
   "metadata": {},
   "outputs": [
    {
     "data": {
      "text/plain": [
       "AveragePrice    0\n",
       "Total_Volume    0\n",
       "tot_ava1        0\n",
       "tot_ava2        0\n",
       "tot_ava3        0\n",
       "Total_Bags      0\n",
       "Small_Bags      0\n",
       "Large_Bags      0\n",
       "XLarge Bags     0\n",
       "type            0\n",
       "year            0\n",
       "region          0\n",
       "dtype: int64"
      ]
     },
     "execution_count": 6,
     "metadata": {},
     "output_type": "execute_result"
    }
   ],
   "source": [
    "df.isnull().sum()"
   ]
  },
  {
   "cell_type": "markdown",
   "id": "ce1137bc",
   "metadata": {},
   "source": [
    "## 3. Select Relevant Features"
   ]
  },
  {
   "cell_type": "code",
   "execution_count": 9,
   "id": "fc372781",
   "metadata": {},
   "outputs": [
    {
     "name": "stdout",
     "output_type": "stream",
     "text": [
      "   AveragePrice  Total_Volume  Total_Bags  Small_Bags  Large_Bags  XLarge Bags\n",
      "0          1.33      64236.62     8696.87     8603.62       93.25          0.0\n",
      "1          1.35      54876.98     9505.56     9408.07       97.49          0.0\n",
      "2          0.93     118220.22     8145.35     8042.21      103.14          0.0\n",
      "3          1.08      78992.15     5811.16     5677.40      133.76          0.0\n",
      "4          1.28      51039.60     6183.95     5986.26      197.69          0.0\n"
     ]
    }
   ],
   "source": [
    "# Selecting necessary columns\n",
    "df = df[['AveragePrice', 'Total_Volume', 'Total_Bags', 'Small_Bags', 'Large_Bags', 'XLarge Bags']]\n",
    "\n",
    "# Display first few rows of filtered data\n",
    "print(df.head())"
   ]
  },
  {
   "cell_type": "markdown",
   "id": "21510adc",
   "metadata": {},
   "source": [
    "## 4. Define Features (X) and Target (y)"
   ]
  },
  {
   "cell_type": "code",
   "execution_count": 10,
   "id": "f299077f",
   "metadata": {},
   "outputs": [],
   "source": [
    "# Define independent variables (features) and dependent variable (target)\n",
    "X = df.drop(columns=['AveragePrice'])  # Features\n",
    "y = df['AveragePrice']                 # Target variable"
   ]
  },
  {
   "cell_type": "markdown",
   "id": "72dbd000",
   "metadata": {},
   "source": [
    "## 5. Split Data into Training and Testing Sets"
   ]
  },
  {
   "cell_type": "code",
   "execution_count": 11,
   "id": "f2c9eb0f",
   "metadata": {},
   "outputs": [
    {
     "name": "stdout",
     "output_type": "stream",
     "text": [
      "Training set: (14599, 5), Test set: (3650, 5)\n",
      "Test set: (3650, 5)\n"
     ]
    }
   ],
   "source": [
    "# Split data into 80% training and 20% testing\n",
    "X_train, X_test, y_train, y_test = train_test_split(X, y, test_size=0.2, random_state=42)\n",
    "\n",
    "# Display shape of training and test sets\n",
    "print(f\"Training set: {X_train.shape}, Test set: {X_test.shape}\")\n",
    "print(f\"Test set: {X_test.shape}\")"
   ]
  },
  {
   "cell_type": "markdown",
   "id": "dd5d5538",
   "metadata": {},
   "source": [
    "## 6.Train the Multiple Linear Regression Model"
   ]
  },
  {
   "cell_type": "code",
   "execution_count": 12,
   "id": "59c2c3fa",
   "metadata": {},
   "outputs": [
    {
     "name": "stdout",
     "output_type": "stream",
     "text": [
      "Intercept: 1.424202027909827\n",
      "Coefficients: [-4.24278168e-08 -4.58573022e-02  4.58574111e-02  4.58572057e-02\n",
      "  4.58580133e-02]\n"
     ]
    }
   ],
   "source": [
    "# Create and train the regression model\n",
    "model = LinearRegression()\n",
    "model.fit(X_train, y_train)\n",
    "\n",
    "# Display model coefficients and intercept\n",
    "print(\"Intercept:\", model.intercept_)\n",
    "print(\"Coefficients:\", model.coef_)"
   ]
  },
  {
   "cell_type": "markdown",
   "id": "d213ca6a",
   "metadata": {},
   "source": [
    "🔹The intercept represents the base price when all features are zero.\n",
    "\n",
    "🔹 The coefficients indicate how much the price changes when a specific feature increases by one unit"
   ]
  },
  {
   "cell_type": "markdown",
   "id": "fe541345",
   "metadata": {},
   "source": [
    "## 7.Make Predictions"
   ]
  },
  {
   "cell_type": "code",
   "execution_count": 13,
   "id": "256dfc0b",
   "metadata": {},
   "outputs": [
    {
     "name": "stdout",
     "output_type": "stream",
     "text": [
      "       Actual Price  Predicted Price\n",
      "8604           0.82         1.421041\n",
      "2608           0.97         1.408002\n",
      "14581          1.44         1.424332\n",
      "4254           0.97         1.419525\n",
      "16588          1.45         1.424591\n"
     ]
    }
   ],
   "source": [
    "# Predict avocado prices using the test set\n",
    "y_pred = model.predict(X_test)\n",
    "\n",
    "# Compare actual vs predicted values\n",
    "comparison = pd.DataFrame({'Actual Price': y_test, 'Predicted Price': y_pred})\n",
    "print(comparison.head())"
   ]
  },
  {
   "cell_type": "markdown",
   "id": "c57f456a",
   "metadata": {},
   "source": [
    "## 8.Evaluate Model Performance"
   ]
  },
  {
   "cell_type": "code",
   "execution_count": 15,
   "id": "f2923bcb",
   "metadata": {},
   "outputs": [
    {
     "name": "stdout",
     "output_type": "stream",
     "text": [
      "Mean Absolute Error (MAE): 0.32\n",
      "Mean Squared Error (MSE): 0.15\n",
      "Root Mean Squared Error (RMSE): 0.39\n",
      "R² Score: 0.04\n"
     ]
    }
   ],
   "source": [
    "# Calculate performance metrics\n",
    "mae = mean_absolute_error(y_test, y_pred)\n",
    "mse = mean_squared_error(y_test, y_pred)\n",
    "rmse = np.sqrt(mse)\n",
    "r2 = r2_score(y_test, y_pred)\n",
    "\n",
    "# Print evaluation metrics\n",
    "print(f\"Mean Absolute Error (MAE): {mae:.2f}\")\n",
    "print(f\"Mean Squared Error (MSE): {mse:.2f}\")\n",
    "print(f\"Root Mean Squared Error (RMSE): {rmse:.2f}\")\n",
    "print(f\"R² Score: {r2:.2f}\")"
   ]
  },
  {
   "cell_type": "markdown",
   "id": "23c0b685",
   "metadata": {},
   "source": [
    "Your R² score is very low (0.04), meaning the model explains only 4% of the variance in avocado prices. This suggests that the selected features do not strongly influence the price."
   ]
  },
  {
   "cell_type": "code",
   "execution_count": 16,
   "id": "40414ea6",
   "metadata": {
    "scrolled": true
   },
   "outputs": [
    {
     "data": {
      "image/png": "[encoded data removed]",
      "text/plain": [
       "<Figure size 800x600 with 2 Axes>"
      ]
     },
     "metadata": {},
     "output_type": "display_data"
    }
   ],
   "source": [
    "# Checking teh features correlation\n",
    "import seaborn as sns\n",
    "import matplotlib.pyplot as plt\n",
    "\n",
    "plt.figure(figsize=(8, 6))\n",
    "sns.heatmap(df.corr(), annot=True, cmap='coolwarm', fmt=\".2f\")\n",
    "plt.title(\"Feature Correlation Heatmap\")\n",
    "plt.show()"
   ]
  },
  {
   "cell_type": "markdown",
   "id": "30fd95b1",
   "metadata": {},
   "source": [
    "1. Low correlation between AveragePrice and all other features (-0.19, -0.18, etc.).\n",
    "\n",
    "  -->  This suggests that the current features do not strongly influence price.\n",
    "    \n",
    "  -->We need better features (e.g., region, year, type).\n",
    "\n",
    "2. High correlation among volume and bag types (0.96–0.99).\n",
    "\n",
    "  --> Total Volume, Total Bags, and Small Bags are almost the same data.\n",
    "  \n",
    "  --> We should remove redundant features to avoid multicollinearity."
   ]
  },
  {
   "cell_type": "code",
   "execution_count": 19,
   "id": "4dd9b188",
   "metadata": {},
   "outputs": [],
   "source": [
    "# load the data set again\n",
    "df = pd.read_csv(\"C:/Data Science/Assignment Data/Multilinear_Dataset/Avacado_Price.csv\")"
   ]
  },
  {
   "cell_type": "markdown",
   "id": "e1e9b38c",
   "metadata": {},
   "source": [
    "### Feature Engineering\n",
    "We will one-hot encode categorical features like region and type."
   ]
  },
  {
   "cell_type": "code",
   "execution_count": 26,
   "id": "5599df5c",
   "metadata": {},
   "outputs": [
    {
     "name": "stdout",
     "output_type": "stream",
     "text": [
      "   AveragePrice  Total_Volume  tot_ava1   tot_ava2  tot_ava3  Total_Bags  \\\n",
      "0          1.33      64236.62   1036.74   54454.85     48.16     8696.87   \n",
      "1          1.35      54876.98    674.28   44638.81     58.33     9505.56   \n",
      "2          0.93     118220.22    794.70  109149.67    130.50     8145.35   \n",
      "3          1.08      78992.15   1132.00   71976.41     72.58     5811.16   \n",
      "4          1.28      51039.60    941.48   43838.39     75.78     6183.95   \n",
      "\n",
      "   Small_Bags  Large_Bags  XLarge Bags  year  ...  region_SouthCentral  \\\n",
      "0     8603.62       93.25          0.0  2015  ...                    0   \n",
      "1     9408.07       97.49          0.0  2015  ...                    0   \n",
      "2     8042.21      103.14          0.0  2015  ...                    0   \n",
      "3     5677.40      133.76          0.0  2015  ...                    0   \n",
      "4     5986.26      197.69          0.0  2015  ...                    0   \n",
      "\n",
      "   region_Southeast  region_Spokane  region_StLouis  region_Syracuse  \\\n",
      "0                 0               0               0                0   \n",
      "1                 0               0               0                0   \n",
      "2                 0               0               0                0   \n",
      "3                 0               0               0                0   \n",
      "4                 0               0               0                0   \n",
      "\n",
      "   region_Tampa  region_TotalUS  region_West  region_WestTexNewMexico  \\\n",
      "0             0               0            0                        0   \n",
      "1             0               0            0                        0   \n",
      "2             0               0            0                        0   \n",
      "3             0               0            0                        0   \n",
      "4             0               0            0                        0   \n",
      "\n",
      "   type_organic  \n",
      "0             0  \n",
      "1             0  \n",
      "2             0  \n",
      "3             0  \n",
      "4             0  \n",
      "\n",
      "[5 rows x 64 columns]\n"
     ]
    }
   ],
   "source": [
    "# One-Hot Encoding for categorical variables\n",
    "df = pd.get_dummies(df, columns=['region', 'type'], drop_first=True)\n",
    "\n",
    "# Display first few rows after encoding\n",
    "print(df.head())"
   ]
  },
  {
   "cell_type": "markdown",
   "id": "71f143a2",
   "metadata": {},
   "source": [
    "## Feature Selection\n",
    "From the correlation heatmap you provided, we see that some features are highly correlated.\n",
    "We will remove redundant features like 'Total Bags' and 'Small Bags'.We will one-hot encode categorical features like region and type."
   ]
  },
  {
   "cell_type": "code",
   "execution_count": 28,
   "id": "e31bbe77",
   "metadata": {},
   "outputs": [
    {
     "name": "stdout",
     "output_type": "stream",
     "text": [
      "Index(['AveragePrice', 'Total_Volume', 'tot_ava1', 'tot_ava2', 'tot_ava3',\n",
      "       'Large_Bags', 'XLarge Bags', 'year', 'region_Atlanta',\n",
      "       'region_BaltimoreWashington', 'region_Boise', 'region_Boston',\n",
      "       'region_BuffaloRochester', 'region_California', 'region_Charlotte',\n",
      "       'region_Chicago', 'region_CincinnatiDayton', 'region_Columbus',\n",
      "       'region_DallasFtWorth', 'region_Denver', 'region_Detroit',\n",
      "       'region_GrandRapids', 'region_GreatLakes', 'region_HarrisburgScranton',\n",
      "       'region_HartfordSpringfield', 'region_Houston', 'region_Indianapolis',\n",
      "       'region_Jacksonville', 'region_LasVegas', 'region_LosAngeles',\n",
      "       'region_Louisville', 'region_MiamiFtLauderdale', 'region_Midsouth',\n",
      "       'region_Nashville', 'region_NewOrleansMobile', 'region_NewYork',\n",
      "       'region_Northeast', 'region_NorthernNewEngland', 'region_Orlando',\n",
      "       'region_Philadelphia', 'region_PhoenixTucson', 'region_Pittsburgh',\n",
      "       'region_Plains', 'region_Portland', 'region_RaleighGreensboro',\n",
      "       'region_RichmondNorfolk', 'region_Roanoke', 'region_Sacramento',\n",
      "       'region_SanDiego', 'region_SanFrancisco', 'region_Seattle',\n",
      "       'region_SouthCarolina', 'region_SouthCentral', 'region_Southeast',\n",
      "       'region_Spokane', 'region_StLouis', 'region_Syracuse', 'region_Tampa',\n",
      "       'region_TotalUS', 'region_West', 'region_WestTexNewMexico',\n",
      "       'type_organic'],\n",
      "      dtype='object')\n"
     ]
    }
   ],
   "source": [
    "# Drop highly correlated features\n",
    "df.drop(columns=['Total_Bags', 'Small_Bags'], inplace=True)\n",
    "\n",
    "# Display remaining columns\n",
    "print(df.columns)"
   ]
  },
  {
   "cell_type": "markdown",
   "id": "38f5943b",
   "metadata": {},
   "source": [
    "##  Train-Test Split"
   ]
  },
  {
   "cell_type": "code",
   "execution_count": 29,
   "id": "7302ca59",
   "metadata": {},
   "outputs": [
    {
     "name": "stdout",
     "output_type": "stream",
     "text": [
      "Training set: (14599, 61), Test set: (3650, 61)\n"
     ]
    }
   ],
   "source": [
    "from sklearn.model_selection import train_test_split\n",
    "\n",
    "# Define target variable (y) and features (X)\n",
    "X = df.drop(columns=['AveragePrice'])  # Features\n",
    "y = df['AveragePrice']  # Target variable\n",
    "\n",
    "# Split data (80% training, 20% testing)\n",
    "X_train, X_test, y_train, y_test = train_test_split(X, y, test_size=0.2, random_state=42)\n",
    "\n",
    "print(f\"Training set: {X_train.shape}, Test set: {X_test.shape}\")"
   ]
  },
  {
   "cell_type": "markdown",
   "id": "b792622f",
   "metadata": {},
   "source": [
    "## Train Multiple Models\n",
    "We will compare Linear Regression, Polynomial Regression, and Random Forest."
   ]
  },
  {
   "cell_type": "code",
   "execution_count": 31,
   "id": "b7ed2aad",
   "metadata": {},
   "outputs": [
    {
     "name": "stdout",
     "output_type": "stream",
     "text": [
      "🔹 Linear Regression Results\n",
      "MAE: 0.20\n",
      "MSE: 0.07\n",
      "RMSE: 0.27\n",
      "R² Score: 0.55\n"
     ]
    }
   ],
   "source": [
    "# Linear Regression (baseline)\n",
    "from sklearn.linear_model import LinearRegression\n",
    "from sklearn.metrics import mean_absolute_error, mean_squared_error, r2_score\n",
    "\n",
    "# Train Model\n",
    "lr = LinearRegression()\n",
    "lr.fit(X_train, y_train)\n",
    "\n",
    "# Predictions\n",
    "y_pred_lr = lr.predict(X_test)\n",
    "\n",
    "# Evaluate\n",
    "print(\"🔹 Linear Regression Results\")\n",
    "print(f\"MAE: {mean_absolute_error(y_test, y_pred_lr):.2f}\")\n",
    "print(f\"MSE: {mean_squared_error(y_test, y_pred_lr):.2f}\")\n",
    "print(f\"RMSE: {np.sqrt(mean_squared_error(y_test, y_pred_lr)):.2f}\")\n",
    "print(f\"R² Score: {r2_score(y_test, y_pred_lr):.2f}\")"
   ]
  },
  {
   "cell_type": "code",
   "execution_count": 32,
   "id": "f77ff2dd",
   "metadata": {},
   "outputs": [
    {
     "name": "stdout",
     "output_type": "stream",
     "text": [
      "🔹 Polynomial Regression Results\n",
      "R² Score: 0.66\n"
     ]
    }
   ],
   "source": [
    "# Polynomial Regression \n",
    "from sklearn.preprocessing import PolynomialFeatures\n",
    "\n",
    "# Transform features to polynomial degree 2\n",
    "poly = PolynomialFeatures(degree=2)\n",
    "X_train_poly = poly.fit_transform(X_train)\n",
    "X_test_poly = poly.transform(X_test)\n",
    "\n",
    "# Train model\n",
    "lr_poly = LinearRegression()\n",
    "lr_poly.fit(X_train_poly, y_train)\n",
    "\n",
    "# Predictions\n",
    "y_pred_poly = lr_poly.predict(X_test_poly)\n",
    "\n",
    "# Evaluate\n",
    "print(\"🔹 Polynomial Regression Results\")\n",
    "print(f\"R² Score: {r2_score(y_test, y_pred_poly):.2f}\")"
   ]
  },
  {
   "cell_type": "code",
   "execution_count": 33,
   "id": "72eee5a2",
   "metadata": {},
   "outputs": [
    {
     "name": "stdout",
     "output_type": "stream",
     "text": [
      "🔹 Random Forest Results\n",
      "R² Score: 0.85\n"
     ]
    }
   ],
   "source": [
    "# Random Forest Regression (Better for Complex Data)\n",
    "from sklearn.ensemble import RandomForestRegressor\n",
    "\n",
    "# Train Model\n",
    "rf = RandomForestRegressor(n_estimators=100, random_state=42)\n",
    "rf.fit(X_train, y_train)\n",
    "\n",
    "# Predictions\n",
    "y_pred_rf = rf.predict(X_test)\n",
    "\n",
    "# Evaluate\n",
    "print(\"🔹 Random Forest Results\")\n",
    "print(f\"R² Score: {r2_score(y_test, y_pred_rf):.2f}\")"
   ]
  },
  {
   "cell_type": "code",
   "execution_count": null,
   "id": "2eaf6332",
   "metadata": {},
   "outputs": [],
   "source": []
  }
 ],
 "metadata": {
  "kernelspec": {
   "display_name": "Python 3 (ipykernel)",
   "language": "python",
   "name": "python3"
  },
  "language_info": {
   "codemirror_mode": {
    "name": "ipython",
    "version": 3
   },
   "file_extension": ".py",
   "mimetype": "text/x-python",
   "name": "python",
   "nbconvert_exporter": "python",
   "pygments_lexer": "ipython3",
   "version": "3.11.7"
  }
 },
 "nbformat": 4,
 "nbformat_minor": 5
}
